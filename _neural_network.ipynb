{
 "cells": [
  {
   "cell_type": "code",
   "execution_count": 1,
   "id": "6c12da79-40bb-4b67-914f-938b5cebc2a0",
   "metadata": {
    "id": "6c12da79-40bb-4b67-914f-938b5cebc2a0"
   },
   "outputs": [],
   "source": [
    "from keras.datasets import mnist\n",
    "import numpy as np\n",
    "import matplotlib.pyplot as plt\n",
    "from sklearn.metrics import accuracy_score\n",
    "from sklearn.metrics import recall_score\n",
    "from sklearn.metrics import precision_score\n",
    "from sklearn.metrics import f1_score\n",
    "\n",
    "(X_train, y_train), (X_test, y_test) = mnist.load_data()"
   ]
  },
  {
   "cell_type": "code",
   "execution_count": 2,
   "id": "6cd7fe7f-8dc6-4b64-a8a4-03c59ebd7adc",
   "metadata": {
    "colab": {
     "base_uri": "https://localhost:8080/"
    },
    "id": "6cd7fe7f-8dc6-4b64-a8a4-03c59ebd7adc",
    "outputId": "73280fb5-fede-4881-ceda-02105e93bf7c"
   },
   "outputs": [
    {
     "name": "stdout",
     "output_type": "stream",
     "text": [
      "(60000, 28, 28)\n",
      "(10000, 28, 28)\n",
      "uint8\n",
      "[[  0   0   0   0   0   0   0   0   0   0   0   0   0   0   0   0   0   0\n",
      "    0   0   0   0   0   0   0   0   0   0]\n",
      " [  0   0   0   0   0   0   0   0   0   0   0   0   0   0   0   0   0   0\n",
      "    0   0   0   0   0   0   0   0   0   0]\n",
      " [  0   0   0   0   0   0   0   0   0   0   0   0   0   0   0   0   0   0\n",
      "    0   0   0   0   0   0   0   0   0   0]\n",
      " [  0   0   0   0   0   0   0   0   0   0   0   0   0   0   0   0   0   0\n",
      "    0   0   0   0   0   0   0   0   0   0]\n",
      " [  0   0   0   0   0   0   0   0   0   0   0   0   0   0   0   0   0   0\n",
      "    0   0   0   0   0   0   0   0   0   0]\n",
      " [  0   0   0   0   0   0   0   0   0   0   0   0   3  18  18  18 126 136\n",
      "  175  26 166 255 247 127   0   0   0   0]\n",
      " [  0   0   0   0   0   0   0   0  30  36  94 154 170 253 253 253 253 253\n",
      "  225 172 253 242 195  64   0   0   0   0]\n",
      " [  0   0   0   0   0   0   0  49 238 253 253 253 253 253 253 253 253 251\n",
      "   93  82  82  56  39   0   0   0   0   0]\n",
      " [  0   0   0   0   0   0   0  18 219 253 253 253 253 253 198 182 247 241\n",
      "    0   0   0   0   0   0   0   0   0   0]\n",
      " [  0   0   0   0   0   0   0   0  80 156 107 253 253 205  11   0  43 154\n",
      "    0   0   0   0   0   0   0   0   0   0]\n",
      " [  0   0   0   0   0   0   0   0   0  14   1 154 253  90   0   0   0   0\n",
      "    0   0   0   0   0   0   0   0   0   0]\n",
      " [  0   0   0   0   0   0   0   0   0   0   0 139 253 190   2   0   0   0\n",
      "    0   0   0   0   0   0   0   0   0   0]\n",
      " [  0   0   0   0   0   0   0   0   0   0   0  11 190 253  70   0   0   0\n",
      "    0   0   0   0   0   0   0   0   0   0]\n",
      " [  0   0   0   0   0   0   0   0   0   0   0   0  35 241 225 160 108   1\n",
      "    0   0   0   0   0   0   0   0   0   0]\n",
      " [  0   0   0   0   0   0   0   0   0   0   0   0   0  81 240 253 253 119\n",
      "   25   0   0   0   0   0   0   0   0   0]\n",
      " [  0   0   0   0   0   0   0   0   0   0   0   0   0   0  45 186 253 253\n",
      "  150  27   0   0   0   0   0   0   0   0]\n",
      " [  0   0   0   0   0   0   0   0   0   0   0   0   0   0   0  16  93 252\n",
      "  253 187   0   0   0   0   0   0   0   0]\n",
      " [  0   0   0   0   0   0   0   0   0   0   0   0   0   0   0   0   0 249\n",
      "  253 249  64   0   0   0   0   0   0   0]\n",
      " [  0   0   0   0   0   0   0   0   0   0   0   0   0   0  46 130 183 253\n",
      "  253 207   2   0   0   0   0   0   0   0]\n",
      " [  0   0   0   0   0   0   0   0   0   0   0   0  39 148 229 253 253 253\n",
      "  250 182   0   0   0   0   0   0   0   0]\n",
      " [  0   0   0   0   0   0   0   0   0   0  24 114 221 253 253 253 253 201\n",
      "   78   0   0   0   0   0   0   0   0   0]\n",
      " [  0   0   0   0   0   0   0   0  23  66 213 253 253 253 253 198  81   2\n",
      "    0   0   0   0   0   0   0   0   0   0]\n",
      " [  0   0   0   0   0   0  18 171 219 253 253 253 253 195  80   9   0   0\n",
      "    0   0   0   0   0   0   0   0   0   0]\n",
      " [  0   0   0   0  55 172 226 253 253 253 253 244 133  11   0   0   0   0\n",
      "    0   0   0   0   0   0   0   0   0   0]\n",
      " [  0   0   0   0 136 253 253 253 212 135 132  16   0   0   0   0   0   0\n",
      "    0   0   0   0   0   0   0   0   0   0]\n",
      " [  0   0   0   0   0   0   0   0   0   0   0   0   0   0   0   0   0   0\n",
      "    0   0   0   0   0   0   0   0   0   0]\n",
      " [  0   0   0   0   0   0   0   0   0   0   0   0   0   0   0   0   0   0\n",
      "    0   0   0   0   0   0   0   0   0   0]\n",
      " [  0   0   0   0   0   0   0   0   0   0   0   0   0   0   0   0   0   0\n",
      "    0   0   0   0   0   0   0   0   0   0]]\n"
     ]
    }
   ],
   "source": [
    "print(X_train.shape) # (60000, 28, 28)\n",
    "print(X_test.shape) # (10000, 28, 28)\n",
    "print(X_train[0].dtype) # uint8\n",
    "print(X_train[0])"
   ]
  },
  {
   "cell_type": "code",
   "execution_count": 3,
   "id": "f8c82d87-91ff-47bc-bd15-c7d12f11cef0",
   "metadata": {
    "id": "f8c82d87-91ff-47bc-bd15-c7d12f11cef0"
   },
   "outputs": [],
   "source": [
    "X_train = X_train.reshape(-1, 784)\n",
    "X_test = X_test.reshape(-1, 784)"
   ]
  },
  {
   "cell_type": "code",
   "execution_count": 4,
   "id": "f714cc43-4b3f-41e4-b2c6-d8ad690a5202",
   "metadata": {
    "colab": {
     "base_uri": "https://localhost:8080/",
     "height": 452
    },
    "id": "f714cc43-4b3f-41e4-b2c6-d8ad690a5202",
    "outputId": "fdb03578-db38-4668-fb50-87a61d165e8a"
   },
   "outputs": [
    {
     "data": {
      "image/png": "[encoded data removed]",
      "text/plain": [
       "<Figure size 640x480 with 1 Axes>"
      ]
     },
     "metadata": {},
     "output_type": "display_data"
    }
   ],
   "source": [
    "import matplotlib.pyplot as plt\n",
    "%matplotlib inline\n",
    "index = 0\n",
    "image = X_train[index].reshape(28,28)\n",
    "# X_train[index]: (784,)\n",
    "# image: (28, 28)\n",
    "plt.imshow(image, 'gray')\n",
    "plt.title('label : {}'.format(y_train[index]))\n",
    "plt.show()"
   ]
  },
  {
   "cell_type": "code",
   "execution_count": 5,
   "id": "4dc40fdd-6d2b-47a5-bce2-f14e840b13ac",
   "metadata": {
    "colab": {
     "base_uri": "https://localhost:8080/",
     "height": 1000
    },
    "id": "4dc40fdd-6d2b-47a5-bce2-f14e840b13ac",
    "outputId": "798b60be-8322-4293-8975-c8d8e55cb013"
   },
   "outputs": [
    {
     "data": {
      "image/png": "[encoded data removed]",
      "text/plain": [
       "<Figure size 640x480 with 1 Axes>"
      ]
     },
     "metadata": {},
     "output_type": "display_data"
    },
    {
     "name": "stdout",
     "output_type": "stream",
     "text": [
      "[[-105.35 -105.35 -105.35 -105.35 -105.35 -105.35 -105.35 -105.35 -105.35\n",
      "  -105.35 -105.35 -105.35 -105.35 -105.35 -105.35 -105.35 -105.35 -105.35\n",
      "  -105.35 -105.35 -105.35 -105.35 -105.35 -105.35 -105.35 -105.35 -105.35\n",
      "  -105.35]\n",
      " [-105.35 -105.35 -105.35 -105.35 -105.35 -105.35 -105.35 -105.35 -105.35\n",
      "  -105.35 -105.35 -105.35 -105.35 -105.35 -105.35 -105.35 -105.35 -105.35\n",
      "  -105.35 -105.35 -105.35 -105.35 -105.35 -105.35 -105.35 -105.35 -105.35\n",
      "  -105.35]\n",
      " [-105.35 -105.35 -105.35 -105.35 -105.35 -105.35 -105.35 -105.35 -105.35\n",
      "  -105.35 -105.35 -105.35 -105.35 -105.35 -105.35 -105.35 -105.35 -105.35\n",
      "  -105.35 -105.35 -105.35 -105.35 -105.35 -105.35 -105.35 -105.35 -105.35\n",
      "  -105.35]\n",
      " [-105.35 -105.35 -105.35 -105.35 -105.35 -105.35 -105.35 -105.35 -105.35\n",
      "  -105.35 -105.35 -105.35 -105.35 -105.35 -105.35 -105.35 -105.35 -105.35\n",
      "  -105.35 -105.35 -105.35 -105.35 -105.35 -105.35 -105.35 -105.35 -105.35\n",
      "  -105.35]\n",
      " [-105.35 -105.35 -105.35 -105.35 -105.35 -105.35 -105.35 -105.35 -105.35\n",
      "  -105.35 -105.35 -105.35 -105.35 -105.35 -105.35 -105.35 -105.35 -105.35\n",
      "  -105.35 -105.35 -105.35 -105.35 -105.35 -105.35 -105.35 -105.35 -105.35\n",
      "  -105.35]\n",
      " [-105.35 -105.35 -105.35 -105.35 -105.35 -105.35 -105.35 -105.35 -105.35\n",
      "  -105.35 -105.35 -105.35 -102.35  -87.35  -87.35  -87.35   20.65   30.65\n",
      "    69.65  -79.35   60.65  149.65  141.65   21.65 -105.35 -105.35 -105.35\n",
      "  -105.35]\n",
      " [-105.35 -105.35 -105.35 -105.35 -105.35 -105.35 -105.35 -105.35  -75.35\n",
      "   -69.35  -11.35   48.65   64.65  147.65  147.65  147.65  147.65  147.65\n",
      "   119.65   66.65  147.65  136.65   89.65  -41.35 -105.35 -105.35 -105.35\n",
      "  -105.35]\n",
      " [-105.35 -105.35 -105.35 -105.35 -105.35 -105.35 -105.35  -56.35  132.65\n",
      "   147.65  147.65  147.65  147.65  147.65  147.65  147.65  147.65  145.65\n",
      "   -12.35  -23.35  -23.35  -49.35  -66.35 -105.35 -105.35 -105.35 -105.35\n",
      "  -105.35]\n",
      " [-105.35 -105.35 -105.35 -105.35 -105.35 -105.35 -105.35  -87.35  113.65\n",
      "   147.65  147.65  147.65  147.65  147.65   92.65   76.65  141.65  135.65\n",
      "  -105.35 -105.35 -105.35 -105.35 -105.35 -105.35 -105.35 -105.35 -105.35\n",
      "  -105.35]\n",
      " [-105.35 -105.35 -105.35 -105.35 -105.35 -105.35 -105.35 -105.35  -25.35\n",
      "    50.65    1.65  147.65  147.65   99.65  -94.35 -105.35  -62.35   48.65\n",
      "  -105.35 -105.35 -105.35 -105.35 -105.35 -105.35 -105.35 -105.35 -105.35\n",
      "  -105.35]\n",
      " [-105.35 -105.35 -105.35 -105.35 -105.35 -105.35 -105.35 -105.35 -105.35\n",
      "   -91.35 -104.35   48.65  147.65  -15.35 -105.35 -105.35 -105.35 -105.35\n",
      "  -105.35 -105.35 -105.35 -105.35 -105.35 -105.35 -105.35 -105.35 -105.35\n",
      "  -105.35]\n",
      " [-105.35 -105.35 -105.35 -105.35 -105.35 -105.35 -105.35 -105.35 -105.35\n",
      "  -105.35 -105.35   33.65  147.65   84.65 -103.35 -105.35 -105.35 -105.35\n",
      "  -105.35 -105.35 -105.35 -105.35 -105.35 -105.35 -105.35 -105.35 -105.35\n",
      "  -105.35]\n",
      " [-105.35 -105.35 -105.35 -105.35 -105.35 -105.35 -105.35 -105.35 -105.35\n",
      "  -105.35 -105.35  -94.35   84.65  147.65  -35.35 -105.35 -105.35 -105.35\n",
      "  -105.35 -105.35 -105.35 -105.35 -105.35 -105.35 -105.35 -105.35 -105.35\n",
      "  -105.35]\n",
      " [-105.35 -105.35 -105.35 -105.35 -105.35 -105.35 -105.35 -105.35 -105.35\n",
      "  -105.35 -105.35 -105.35  -70.35  135.65  119.65   54.65    2.65 -104.35\n",
      "  -105.35 -105.35 -105.35 -105.35 -105.35 -105.35 -105.35 -105.35 -105.35\n",
      "  -105.35]\n",
      " [-105.35 -105.35 -105.35 -105.35 -105.35 -105.35 -105.35 -105.35 -105.35\n",
      "  -105.35 -105.35 -105.35 -105.35  -24.35  134.65  147.65  147.65   13.65\n",
      "   -80.35 -105.35 -105.35 -105.35 -105.35 -105.35 -105.35 -105.35 -105.35\n",
      "  -105.35]\n",
      " [-105.35 -105.35 -105.35 -105.35 -105.35 -105.35 -105.35 -105.35 -105.35\n",
      "  -105.35 -105.35 -105.35 -105.35 -105.35  -60.35   80.65  147.65  147.65\n",
      "    44.65  -78.35 -105.35 -105.35 -105.35 -105.35 -105.35 -105.35 -105.35\n",
      "  -105.35]\n",
      " [-105.35 -105.35 -105.35 -105.35 -105.35 -105.35 -105.35 -105.35 -105.35\n",
      "  -105.35 -105.35 -105.35 -105.35 -105.35 -105.35  -89.35  -12.35  146.65\n",
      "   147.65   81.65 -105.35 -105.35 -105.35 -105.35 -105.35 -105.35 -105.35\n",
      "  -105.35]\n",
      " [-105.35 -105.35 -105.35 -105.35 -105.35 -105.35 -105.35 -105.35 -105.35\n",
      "  -105.35 -105.35 -105.35 -105.35 -105.35 -105.35 -105.35 -105.35  143.65\n",
      "   147.65  143.65  -41.35 -105.35 -105.35 -105.35 -105.35 -105.35 -105.35\n",
      "  -105.35]\n",
      " [-105.35 -105.35 -105.35 -105.35 -105.35 -105.35 -105.35 -105.35 -105.35\n",
      "  -105.35 -105.35 -105.35 -105.35 -105.35  -59.35   24.65   77.65  147.65\n",
      "   147.65  101.65 -103.35 -105.35 -105.35 -105.35 -105.35 -105.35 -105.35\n",
      "  -105.35]\n",
      " [-105.35 -105.35 -105.35 -105.35 -105.35 -105.35 -105.35 -105.35 -105.35\n",
      "  -105.35 -105.35 -105.35  -66.35   42.65  123.65  147.65  147.65  147.65\n",
      "   144.65   76.65 -105.35 -105.35 -105.35 -105.35 -105.35 -105.35 -105.35\n",
      "  -105.35]\n",
      " [-105.35 -105.35 -105.35 -105.35 -105.35 -105.35 -105.35 -105.35 -105.35\n",
      "  -105.35  -81.35    8.65  115.65  147.65  147.65  147.65  147.65   95.65\n",
      "   -27.35 -105.35 -105.35 -105.35 -105.35 -105.35 -105.35 -105.35 -105.35\n",
      "  -105.35]\n",
      " [-105.35 -105.35 -105.35 -105.35 -105.35 -105.35 -105.35 -105.35  -82.35\n",
      "   -39.35  107.65  147.65  147.65  147.65  147.65   92.65  -24.35 -103.35\n",
      "  -105.35 -105.35 -105.35 -105.35 -105.35 -105.35 -105.35 -105.35 -105.35\n",
      "  -105.35]\n",
      " [-105.35 -105.35 -105.35 -105.35 -105.35 -105.35  -87.35   65.65  113.65\n",
      "   147.65  147.65  147.65  147.65   89.65  -25.35  -96.35 -105.35 -105.35\n",
      "  -105.35 -105.35 -105.35 -105.35 -105.35 -105.35 -105.35 -105.35 -105.35\n",
      "  -105.35]\n",
      " [-105.35 -105.35 -105.35 -105.35  -50.35   66.65  120.65  147.65  147.65\n",
      "   147.65  147.65  138.65   27.65  -94.35 -105.35 -105.35 -105.35 -105.35\n",
      "  -105.35 -105.35 -105.35 -105.35 -105.35 -105.35 -105.35 -105.35 -105.35\n",
      "  -105.35]\n",
      " [-105.35 -105.35 -105.35 -105.35   30.65  147.65  147.65  147.65  106.65\n",
      "    29.65   26.65  -89.35 -105.35 -105.35 -105.35 -105.35 -105.35 -105.35\n",
      "  -105.35 -105.35 -105.35 -105.35 -105.35 -105.35 -105.35 -105.35 -105.35\n",
      "  -105.35]\n",
      " [-105.35 -105.35 -105.35 -105.35 -105.35 -105.35 -105.35 -105.35 -105.35\n",
      "  -105.35 -105.35 -105.35 -105.35 -105.35 -105.35 -105.35 -105.35 -105.35\n",
      "  -105.35 -105.35 -105.35 -105.35 -105.35 -105.35 -105.35 -105.35 -105.35\n",
      "  -105.35]\n",
      " [-105.35 -105.35 -105.35 -105.35 -105.35 -105.35 -105.35 -105.35 -105.35\n",
      "  -105.35 -105.35 -105.35 -105.35 -105.35 -105.35 -105.35 -105.35 -105.35\n",
      "  -105.35 -105.35 -105.35 -105.35 -105.35 -105.35 -105.35 -105.35 -105.35\n",
      "  -105.35]\n",
      " [-105.35 -105.35 -105.35 -105.35 -105.35 -105.35 -105.35 -105.35 -105.35\n",
      "  -105.35 -105.35 -105.35 -105.35 -105.35 -105.35 -105.35 -105.35 -105.35\n",
      "  -105.35 -105.35 -105.35 -105.35 -105.35 -105.35 -105.35 -105.35 -105.35\n",
      "  -105.35]]\n"
     ]
    }
   ],
   "source": [
    "index = 0\n",
    "image = X_train[index].reshape(28, 28)\n",
    "image = image.astype(float)  # Convert to float type\n",
    "image -= 105.35  # Intentionally try to create a negative decimal value\n",
    "plt.imshow(image, 'gray')\n",
    "\n",
    "plt.title('label : {}'.format(y_train[index]))\n",
    "plt.show()\n",
    "print(image) # Check the value"
   ]
  },
  {
   "cell_type": "code",
   "execution_count": 6,
   "id": "7a0a4442-e109-4526-b2cc-b4df983d1611",
   "metadata": {
    "colab": {
     "base_uri": "https://localhost:8080/",
     "height": 448
    },
    "id": "7a0a4442-e109-4526-b2cc-b4df983d1611",
    "outputId": "1001c0d3-44b7-4d70-8029-8c853e1cc93e"
   },
   "outputs": [
    {
     "data": {
      "text/plain": [
       "<matplotlib.image.AxesImage at 0x2230f6fcd10>"
      ]
     },
     "execution_count": 6,
     "metadata": {},
     "output_type": "execute_result"
    },
    {
     "data": {
      "image/png": "[encoded data removed]",
      "text/plain": [
       "<Figure size 640x480 with 1 Axes>"
      ]
     },
     "metadata": {},
     "output_type": "display_data"
    }
   ],
   "source": [
    "plt.imshow(image, 'gray', vmin = 0, vmax = 255)"
   ]
  },
  {
   "cell_type": "code",
   "execution_count": 7,
   "id": "7a78dc99-5dab-4934-a004-5783d623d3a3",
   "metadata": {
    "colab": {
     "base_uri": "https://localhost:8080/"
    },
    "id": "7a78dc99-5dab-4934-a004-5783d623d3a3",
    "outputId": "75ccdb0a-535e-4cb5-efb7-0662d68676e8"
   },
   "outputs": [
    {
     "name": "stdout",
     "output_type": "stream",
     "text": [
      "1.0\n",
      "0.0\n"
     ]
    }
   ],
   "source": [
    "X_train = X_train.astype(float)\n",
    "X_test = X_test.astype(float)\n",
    "X_train /= 255\n",
    "X_test /= 255\n",
    "print(X_train.max()) # 1.0\n",
    "print(X_train.min()) # 0.0"
   ]
  },
  {
   "cell_type": "code",
   "execution_count": 8,
   "id": "976bd54d-e884-4dc0-9669-17643b5b9061",
   "metadata": {
    "colab": {
     "base_uri": "https://localhost:8080/"
    },
    "id": "976bd54d-e884-4dc0-9669-17643b5b9061",
    "outputId": "7d67a1f1-4380-41e2-88e2-8447f05338d4"
   },
   "outputs": [
    {
     "name": "stdout",
     "output_type": "stream",
     "text": [
      "(48000, 784)\n",
      "(12000, 784)\n"
     ]
    }
   ],
   "source": [
    "from sklearn.model_selection import train_test_split\n",
    "X_train, X_val, y_train, y_val = train_test_split(X_train, y_train, test_size=0.2)\n",
    "print(X_train.shape) # (48000, 784)\n",
    "print(X_val.shape) # (12000, 784)\n"
   ]
  },
  {
   "cell_type": "code",
   "execution_count": 9,
   "id": "a6381438-5e5b-459f-aaf4-2a7bdd487f58",
   "metadata": {
    "colab": {
     "base_uri": "https://localhost:8080/"
    },
    "id": "a6381438-5e5b-459f-aaf4-2a7bdd487f58",
    "outputId": "55779744-09c0-466c-ac7e-d8473529b145"
   },
   "outputs": [
    {
     "name": "stdout",
     "output_type": "stream",
     "text": [
      "(48000,)\n",
      "(48000, 10)\n",
      "float64\n"
     ]
    },
    {
     "name": "stderr",
     "output_type": "stream",
     "text": [
      "C:\\Users\\DoBUY\\anaconda3\\Lib\\site-packages\\sklearn\\preprocessing\\_encoders.py:868: FutureWarning: `sparse` was renamed to `sparse_output` in version 1.2 and will be removed in 1.4. `sparse_output` is ignored unless you leave `sparse` to its default value.\n",
      "  warnings.warn(\n"
     ]
    }
   ],
   "source": [
    "from sklearn.preprocessing import OneHotEncoder\n",
    "enc = OneHotEncoder(handle_unknown='ignore', sparse=False)\n",
    "y_train_one_hot = enc.fit_transform(y_train[:, np.newaxis])\n",
    "y_val_one_hot = enc.transform(y_val[:, np.newaxis])\n",
    "print(y_train.shape) # (60000,)\n",
    "print(y_train_one_hot.shape) # (60000, 10)\n",
    "print(y_train_one_hot.dtype) # float64"
   ]
  },
  {
   "cell_type": "code",
   "execution_count": 10,
   "id": "4b9b629a-731a-410c-a15a-03cb10d549ba",
   "metadata": {
    "id": "4b9b629a-731a-410c-a15a-03cb10d549ba"
   },
   "outputs": [],
   "source": [
    "class GetMiniBatch:\n",
    "    \"\"\"\n",
    "Iterator to get a mini-batch\n",
    "\n",
    "    Parameters\n",
    "    ----------\n",
    "    X : The following forms of ndarray, shape (n_samples, n_features)\n",
    "      Training data\n",
    "    y : The following form of ndarray, shape (n_samples, 1)\n",
    "      Correct answer value\n",
    "    batch_size : int\n",
    "      Batch size\n",
    "    seed : int\n",
    "      NumPy random seed\n",
    "    \"\"\"\n",
    "    def __init__(self, X, y, batch_size = 20, seed=0):\n",
    "        self.batch_size = batch_size\n",
    "        np.random.seed(seed)\n",
    "        shuffle_index = np.random.permutation(np.arange(X.shape[0]))\n",
    "        self._X = X[shuffle_index]\n",
    "        self._y = y[shuffle_index]\n",
    "        self._stop = np.ceil(X.shape[0] / self.batch_size).astype(int)\n",
    "\n",
    "\n",
    "    def __len__(self):\n",
    "        return self._stop\n",
    "\n",
    "    def __getitem__(self,item):\n",
    "        p0 = item*self.batch_size\n",
    "        p1 = item*self.batch_size + self.batch_size\n",
    "        return self._X[p0:p1], self._y[p0:p1]\n",
    "\n",
    "    def __iter__(self):\n",
    "        self._counter = 0\n",
    "        return self\n",
    "\n",
    "    def __next__(self):\n",
    "        if self._counter >= self._stop:\n",
    "            raise StopIteration()\n",
    "        p0 = self._counter*self.batch_size\n",
    "        p1 = self._counter*self.batch_size + self.batch_size\n",
    "        self._counter += 1\n",
    "        return self._X[p0:p1], self._y[p0:p1]"
   ]
  },
  {
   "cell_type": "code",
   "execution_count": 11,
   "id": "e90cf157-87ec-4551-b450-5201212e082b",
   "metadata": {
    "colab": {
     "base_uri": "https://localhost:8080/"
    },
    "id": "e90cf157-87ec-4551-b450-5201212e082b",
    "outputId": "982fb448-f8bd-492a-ec8d-9d7eb044758f"
   },
   "outputs": [
    {
     "name": "stdout",
     "output_type": "stream",
     "text": [
      "2400\n",
      "(array([[0., 0., 0., ..., 0., 0., 0.],\n",
      "       [0., 0., 0., ..., 0., 0., 0.],\n",
      "       [0., 0., 0., ..., 0., 0., 0.],\n",
      "       ...,\n",
      "       [0., 0., 0., ..., 0., 0., 0.],\n",
      "       [0., 0., 0., ..., 0., 0., 0.],\n",
      "       [0., 0., 0., ..., 0., 0., 0.]]), array([8, 9, 2, 5, 4, 5, 6, 7, 3, 5, 4, 0, 1, 5, 8, 6, 3, 7, 0, 7],\n",
      "      dtype=uint8))\n"
     ]
    }
   ],
   "source": [
    "get_mini_batch = GetMiniBatch(X_train, y_train, batch_size=20)\n",
    "\n",
    "print(len(get_mini_batch)) # 2400\n",
    "print(get_mini_batch[5]) # You can get the 5th mini batch\n",
    "for mini_X_train, mini_y_train in get_mini_batch:\n",
    "    # You can use a mini batch in this for statement\n",
    "    pass"
   ]
  },
  {
   "cell_type": "code",
   "execution_count": 12,
   "id": "bab4a12b-e171-4cdf-af75-47238c672f74",
   "metadata": {
    "id": "bab4a12b-e171-4cdf-af75-47238c672f74"
   },
   "outputs": [],
   "source": [
    "import numpy as np\n",
    "import scipy\n",
    "\n",
    "class ScratchSimpleNeuralNetrowkClassifier():\n",
    "    def __init__(self, n_epochs=50, n_features=784, n_nodes1=400, n_nodes2=200, n_output=10, sigma=0.01, n_batch=100, activate_function_key='tanh', lr=0.01, verbose=False):\n",
    "        self.n_epoch = n_epochs\n",
    "        self.n_features = n_features\n",
    "        self.n_nodes1 = n_nodes1\n",
    "        self.n_nodes2 = n_nodes2\n",
    "        self.n_output = n_output\n",
    "        self.sigma = sigma\n",
    "        self.n_batch = n_batch\n",
    "        self.activate_function_key = activate_function_key\n",
    "        self.lr = lr\n",
    "        self.verbose = verbose\n",
    "\n",
    "    def initial_weight(self):\n",
    "        self.W1 = self.sigma * np.random.randn(self.n_features, self.n_nodes1)\n",
    "        self.b1 = np.zeros(self.n_nodes1)\n",
    "        self.W2 = self.sigma * np.random.randn(self.n_nodes1, self.n_nodes2)\n",
    "        self.b2 = np.zeros(self.n_nodes2)\n",
    "        self.W3 = self.sigma * np.random.randn(self.n_nodes2, self.n_output)\n",
    "        self.b3 = np.zeros(self.n_output)\n",
    "\n",
    "    def activation_function(self, X):\n",
    "        if self.activate_function_key == 'sigmoid':\n",
    "            return 1 / (1 + np.exp(-X))\n",
    "        elif self.activate_function_key == 'tanh':\n",
    "            return np.tanh(X)\n",
    "\n",
    "    def softmax(self, X):\n",
    "        return np.exp(X - np.max(X)) / np.sum(np.exp(X - np.max(X)), axis=1, keepdims=True)\n",
    "\n",
    "    def loss_function(self, y, yt):\n",
    "        delta =1e-7\n",
    "        return -np.mean(yt*np.log(y+delta))\n",
    "\n",
    "\n",
    "    def gradient_descent(self, X, y, yt):\n",
    "        delta_a3 = (y - yt) / self.n_batch\n",
    "        delta_b3 = np.sum(delta_a3, axis=0)\n",
    "        delta_w3 = np.dot(self.z2.T, delta_a3)\n",
    "        delta_z2 = np.dot(delta_a3, self.W3.T)\n",
    "\n",
    "        self.W3 -= self.lr * delta_w3\n",
    "        self.b3 -= self.lr * delta_b3\n",
    "\n",
    "        # 2nd Layer\n",
    "        if self.activate_function_key == 'sigmoid':\n",
    "            delta_a2 = delta_z2 * (1 - self.activation_function_key(self.z2)) * self.activation_function(self.z2)\n",
    "        elif self.activate_function_key == 'tanh':\n",
    "            delta_a2 = delta_z2 * (1 - np.tanh(self.z2) ** 2)\n",
    "\n",
    "        delta_b2 = np.sum(delta_a2, axis=0)\n",
    "        delta_w2 = np.dot(self.z1.T, delta_a2)\n",
    "        delta_z1 = np.dot(delta_a2, self.W2.T)\n",
    "\n",
    "        self.W2 -= self.lr * delta_w2\n",
    "        self.b2 -= self.lr * delta_b2\n",
    "\n",
    "        # 1st Layer\n",
    "        if self.activate_function_key == 'sigmoid':\n",
    "            delta_a1 = delta_z1 * (1 - self.activation_function_key(self.z1)) * self.activation_function(self.z1)\n",
    "        elif self.activate_function_key == 'tanh':\n",
    "            delta_a1 = delta_z1 * (1 - np.tanh(self.z1) ** 2)\n",
    "\n",
    "        delta_b1 = np.sum(delta_a1, axis=0)\n",
    "        delta_w1 = np.dot(X.T, delta_a1)\n",
    "\n",
    "        self.W1 -= self.lr * delta_w1\n",
    "        self.b1 -= self.lr * delta_b1\n",
    "\n",
    "    def fit(self, X, y, X_val=False, y_val=False):\n",
    "        # initial weights\n",
    "        self.initial_weight()\n",
    "\n",
    "        # list to record the loss_function for each iteration\n",
    "        self.log_loss = []\n",
    "        self.log_loss_val = []\n",
    "\n",
    "        # evaluate the estimation of train data per iteration: Accuracy\n",
    "        self.log_acc = []\n",
    "        self.log_acc_val = []\n",
    "\n",
    "        for epoch in range(self.n_epoch):\n",
    "            get_mini_batch = GetMiniBatch(X, y, batch_size=self.n_batch)\n",
    "            self.loss = 0\n",
    "            self.true_y = np.array([])\n",
    "            self.pred_y = np.array([])\n",
    "            for mini_X_train, mini_y_train in get_mini_batch:\n",
    "                # 1st layer\n",
    "                self.z1 = self.activation_function(np.dot(mini_X_train, self.W1) + self.b1)\n",
    "                # 2nd layer\n",
    "                self.z2 = self.activation_function(np.dot(self.z1, self.W2) + self.b2)\n",
    "                # 3rd layer\n",
    "                output = self.softmax(np.dot(self.z2, self.W3) + self.b3)\n",
    "\n",
    "                # Backpropagation\n",
    "                self.gradient_descent(mini_X_train, output, mini_y_train)\n",
    "\n",
    "                # record correct and estimated values for mini batch data\n",
    "                self.true_y = np.concatenate([self.true_y, np.argmax(mini_y_train, axis=1)])\n",
    "                self.pred_y = np.concatenate([self.pred_y, np.argmax(output, axis=1)])\n",
    "\n",
    "                # loss function\n",
    "                self.loss += self.loss_function(output, mini_y_train)\n",
    "\n",
    "            # record the loss function for each iteration\n",
    "            self.log_loss.append(self.loss / len(get_mini_batch))\n",
    "\n",
    "            # Accuracy\n",
    "            acc = accuracy_score(self.true_y, self.pred_y)\n",
    "            self.log_acc.append(acc)\n",
    "\n",
    "            # Calculate once val data has been entered\n",
    "            if type(X_val) != bool:\n",
    "                # 1st layer\n",
    "                self.z1_val = self.activation_function(np.dot(X_val, self.W1) + self.b1)\n",
    "                # 2nd layer\n",
    "                self.z2_val = self.activation_function(np.dot(self.z1_val, self.W2) + self.b2)\n",
    "                # 3rd layer\n",
    "                output_val = self.softmax(np.dot(self.z2_val, self.W3) + self.b3)\n",
    "                # loss function\n",
    "                self.loss_val = self.loss_function(output_val, y_val)\n",
    "                self.log_loss_val.append(self.loss_val)\n",
    "\n",
    "                # Accuracy\n",
    "                acc_val = accuracy_score(np.argmax(y_val, axis=1), np.argmax(output_val, axis=1))\n",
    "                self.log_acc_val.append(acc_val)\n",
    "\n",
    "            if self.verbose:\n",
    "                print('epoch:{:>3} loss:{:>8,.3f}'.format(epoch, self.loss / self.n_batch, acc))\n",
    "\n",
    "    def predict(self, X):\n",
    "        # 1st layer\n",
    "        self.pred_z1 = self.activation_function(np.dot(X, self.W1) + self.b1)\n",
    "        # 2nd layer\n",
    "        self.pred_z2 = self.activation_function(np.dot(self.pred_z1, self.W2) + self.b2)\n",
    "        return np.argmax(np.dot(self.pred_z2, self.W3) + self.b3, axis=1)\n"
   ]
  },
  {
   "cell_type": "code",
   "execution_count": 13,
   "id": "7e86d6a6-537d-4bea-87b3-45e85ff60b93",
   "metadata": {
    "colab": {
     "base_uri": "https://localhost:8080/"
    },
    "id": "7e86d6a6-537d-4bea-87b3-45e85ff60b93",
    "outputId": "314589a2-bd3f-47be-de70-707beefd6b51"
   },
   "outputs": [
    {
     "name": "stdout",
     "output_type": "stream",
     "text": [
      "W1 shape: (784, 400)\n"
     ]
    }
   ],
   "source": [
    "#problem 1\n",
    "\n",
    "\n",
    "n_features = 784\n",
    "n_nodes1 = 400\n",
    "n_nodes2 = 200\n",
    "n_output = 10\n",
    "\n",
    "sigma = 0.01\n",
    "W1 = sigma * np.random.randn(n_features, n_nodes1)\n",
    "print(\"W1 shape:\", W1.shape)  # (784, 400)\n",
    "\n"
   ]
  },
  {
   "cell_type": "code",
   "execution_count": 14,
   "id": "d5349348-a15c-4344-af65-c27e9c513d01",
   "metadata": {
    "colab": {
     "base_uri": "https://localhost:8080/"
    },
    "id": "d5349348-a15c-4344-af65-c27e9c513d01",
    "outputId": "833788ed-7ceb-44c8-aae3-0d0ab98e43f3"
   },
   "outputs": [
    {
     "name": "stdout",
     "output_type": "stream",
     "text": [
      "W1 (784, 400)\n",
      "W2 (400, 200)\n",
      "W3 (200, 10)\n",
      "b1 (400,)\n",
      "b2 (200,)\n",
      "b3 (10,)\n"
     ]
    }
   ],
   "source": [
    "W1 = sigma*np.random.randn(n_features, n_nodes1)\n",
    "b1 = sigma * np.random.randn(n_nodes1)\n",
    "W2 = sigma*np.random.randn(n_nodes1, n_nodes2)\n",
    "b2 = sigma * np.random.randn(n_nodes2)\n",
    "W3 = sigma*np.random.randn(n_nodes2, n_output)\n",
    "b3 = sigma * np.random.randn(n_output)\n",
    "\n",
    "print('W1', W1.shape)\n",
    "print('W2', W2.shape)\n",
    "print('W3', W3.shape)\n",
    "print('b1', b1.shape)\n",
    "print('b2', b2.shape)\n",
    "print('b3', b3.shape)"
   ]
  },
  {
   "cell_type": "code",
   "execution_count": 15,
   "id": "27b50d1d-e484-41b7-bcaf-57f55c038cd8",
   "metadata": {
    "id": "27b50d1d-e484-41b7-bcaf-57f55c038cd8"
   },
   "outputs": [],
   "source": [
    "#problem 2\n",
    "X=X_train[0:20]"
   ]
  },
  {
   "cell_type": "code",
   "execution_count": 16,
   "id": "f4d508d3-0921-4abc-8ec6-af2a5da35d75",
   "metadata": {
    "colab": {
     "base_uri": "https://localhost:8080/"
    },
    "id": "f4d508d3-0921-4abc-8ec6-af2a5da35d75",
    "outputId": "fa1bc4f7-eee6-4761-ec8d-85297ea11958",
    "scrolled": true
   },
   "outputs": [
    {
     "name": "stdout",
     "output_type": "stream",
     "text": [
      "z1.shape (20, 400)\n",
      "[[-0.02796901  0.06792584 -0.04131837 ... -0.04342044  0.11254567\n",
      "  -0.14099494]\n",
      " [-0.00832078 -0.04523414  0.07308972 ...  0.0238416   0.0743399\n",
      "  -0.07613511]\n",
      " [-0.06424519  0.04235851 -0.05982183 ... -0.04309733  0.11200228\n",
      "  -0.02589564]\n",
      " ...\n",
      " [-0.07212137  0.06551796  0.10055596 ...  0.00106716  0.06520867\n",
      "  -0.15439984]\n",
      " [ 0.01904279  0.13519309 -0.03281431 ...  0.08738136  0.04434949\n",
      "  -0.07197812]\n",
      " [-0.08402737  0.08284957  0.01589345 ...  0.01954893  0.0622956\n",
      "  -0.03100079]]\n"
     ]
    }
   ],
   "source": [
    "z1= np.dot(X,W1)\n",
    "print('z1.shape', z1.shape)\n",
    "print(z1)"
   ]
  },
  {
   "cell_type": "code",
   "execution_count": 17,
   "id": "efbdbb59-696a-48b8-8824-10d8fce79170",
   "metadata": {
    "colab": {
     "base_uri": "https://localhost:8080/"
    },
    "id": "efbdbb59-696a-48b8-8824-10d8fce79170",
    "outputId": "b5b52084-8cb9-47d6-b8e9-acc97357fd24"
   },
   "outputs": [
    {
     "name": "stdout",
     "output_type": "stream",
     "text": [
      "sig1: (20, 400)\n"
     ]
    }
   ],
   "source": [
    "sig1 = 1/(1+np.exp(-z1))\n",
    "print('sig1:', sig1.shape)"
   ]
  },
  {
   "cell_type": "code",
   "execution_count": 18,
   "id": "17b7518c-1d41-4c52-b6bd-a43f19e7d8c6",
   "metadata": {
    "colab": {
     "base_uri": "https://localhost:8080/"
    },
    "id": "17b7518c-1d41-4c52-b6bd-a43f19e7d8c6",
    "outputId": "41588605-8c8a-4e25-9ba8-c3f76579c0de"
   },
   "outputs": [
    {
     "name": "stdout",
     "output_type": "stream",
     "text": [
      "z1.shape (20, 200)\n",
      "[[-0.06543369  0.08210391 -0.05557289 ... -0.06771032  0.03430869\n",
      "   0.03893442]\n",
      " [-0.06386142  0.07864637 -0.05379758 ... -0.07170035  0.04254965\n",
      "   0.03778753]\n",
      " [-0.06066158  0.07677612 -0.0481176  ... -0.07057711  0.03486299\n",
      "   0.03373662]\n",
      " ...\n",
      " [-0.06167057  0.07462847 -0.05770719 ... -0.06843354  0.04075896\n",
      "   0.03896886]\n",
      " [-0.0688221   0.08034954 -0.05532053 ... -0.06217271  0.03575475\n",
      "   0.04061609]\n",
      " [-0.06352962  0.08034052 -0.05620179 ... -0.06519506  0.0387043\n",
      "   0.03471972]]\n"
     ]
    }
   ],
   "source": [
    "z2= np.dot(sig1,W2) + b2\n",
    "print('z1.shape', z2.shape)\n",
    "print(z2)\n"
   ]
  },
  {
   "cell_type": "code",
   "execution_count": 19,
   "id": "14146d56-9352-4978-92a1-96a0434f0a3f",
   "metadata": {
    "colab": {
     "base_uri": "https://localhost:8080/"
    },
    "id": "14146d56-9352-4978-92a1-96a0434f0a3f",
    "outputId": "6b17f34d-b4aa-459f-ae1c-5741415c2fa0"
   },
   "outputs": [
    {
     "name": "stdout",
     "output_type": "stream",
     "text": [
      "sig2 (20, 200)\n",
      "[[0.48364741 0.52051446 0.48611035 ... 0.48307888 0.50857633 0.50973237]\n",
      " [0.48404007 0.51965146 0.48655385 ... 0.48208259 0.51063581 0.50944576]\n",
      " [0.48483925 0.51918461 0.48797292 ... 0.48236304 0.50871487 0.50843336]\n",
      " ...\n",
      " [0.48458724 0.51864846 0.4855772  ... 0.48289829 0.51018833 0.50974098]\n",
      " [0.48280126 0.52007658 0.48617339 ... 0.48446183 0.50893773 0.51015263]\n",
      " [0.48412294 0.52007433 0.48595325 ... 0.483707   0.50967487 0.50867906]]\n"
     ]
    }
   ],
   "source": [
    "sig2 = 1/(1+np.exp(-z2))\n",
    "print('sig2', sig2.shape)\n",
    "print(sig2)\n"
   ]
  },
  {
   "cell_type": "code",
   "execution_count": 20,
   "id": "daa60340-d82b-4f2b-8344-5d61bf5de2c3",
   "metadata": {
    "colab": {
     "base_uri": "https://localhost:8080/"
    },
    "id": "daa60340-d82b-4f2b-8344-5d61bf5de2c3",
    "outputId": "0497a375-d3f5-4630-a233-e6bb087cbfbc"
   },
   "outputs": [
    {
     "name": "stdout",
     "output_type": "stream",
     "text": [
      "z3.shape (20, 10)\n",
      "[[-0.03829266 -0.07032655 -0.02093055  0.06662813  0.15797754 -0.22305122\n",
      "   0.00594041 -0.02605545  0.05383831 -0.13210966]\n",
      " [-0.03824126 -0.07068525 -0.02084136  0.06659167  0.15821527 -0.22300712\n",
      "   0.00581149 -0.02616142  0.05369383 -0.13222832]\n",
      " [-0.03834916 -0.07042499 -0.0206394   0.06678168  0.15807839 -0.2231322\n",
      "   0.00592676 -0.02616626  0.05380263 -0.13214929]\n",
      " [-0.03829562 -0.07048987 -0.02072997  0.0668573   0.15819932 -0.22313986\n",
      "   0.00604685 -0.0260882   0.05386047 -0.1323123 ]\n",
      " [-0.03838014 -0.07043258 -0.0208568   0.06668325  0.15805571 -0.22304048\n",
      "   0.005825   -0.02619893  0.05387715 -0.13217802]\n",
      " [-0.03812292 -0.07032485 -0.02070366  0.06673492  0.15801542 -0.22299481\n",
      "   0.00570408 -0.02625799  0.05392377 -0.13203253]\n",
      " [-0.03838829 -0.0705888  -0.02086411  0.06675966  0.15812821 -0.223032\n",
      "   0.00608981 -0.02614905  0.05379021 -0.1322002 ]\n",
      " [-0.03841956 -0.07050857 -0.02075278  0.06690787  0.15791962 -0.22292771\n",
      "   0.00598334 -0.0263131   0.05372701 -0.13224762]\n",
      " [-0.03824528 -0.07045381 -0.02082008  0.06673058  0.15793444 -0.22304966\n",
      "   0.00593861 -0.02633353  0.0538353  -0.13222517]\n",
      " [-0.03832573 -0.07049359 -0.02096308  0.06690329  0.15790328 -0.22296538\n",
      "   0.00604045 -0.02604807  0.0537555  -0.13215797]\n",
      " [-0.03849167 -0.07049249 -0.020773    0.06684563  0.15821504 -0.2231439\n",
      "   0.00600463 -0.02612871  0.05396143 -0.13224533]\n",
      " [-0.03845371 -0.07072956 -0.02080745  0.06675514  0.15786193 -0.22306626\n",
      "   0.00598065 -0.02609322  0.05388078 -0.13212599]\n",
      " [-0.03832474 -0.07062063 -0.02083007  0.06667147  0.15816811 -0.22313663\n",
      "   0.00589626 -0.02612649  0.05380692 -0.13220992]\n",
      " [-0.03840927 -0.07045067 -0.02076748  0.06669312  0.15823265 -0.2230738\n",
      "   0.00577742 -0.02614516  0.05396692 -0.13221537]\n",
      " [-0.03827062 -0.07070367 -0.02065678  0.06668076  0.15805409 -0.22297418\n",
      "   0.00622008 -0.02587015  0.05388985 -0.13218734]\n",
      " [-0.038307   -0.07037539 -0.02070803  0.06684425  0.15806183 -0.22304048\n",
      "   0.00584353 -0.02613059  0.05402791 -0.13221962]\n",
      " [-0.03844687 -0.07038051 -0.02078264  0.06667691  0.15815517 -0.22318227\n",
      "   0.00579639 -0.02620424  0.0538992  -0.13209326]\n",
      " [-0.03848617 -0.07040088 -0.02068243  0.0669865   0.15819255 -0.22313645\n",
      "   0.00592967 -0.02622231  0.05388544 -0.13238155]\n",
      " [-0.03829053 -0.07048845 -0.02086406  0.0668823   0.1581277  -0.22287669\n",
      "   0.00583289 -0.02613346  0.05403161 -0.13214271]\n",
      " [-0.03824978 -0.07050698 -0.02093889  0.06662782  0.15811913 -0.22279981\n",
      "   0.00579455 -0.02611613  0.05386051 -0.13223527]]\n"
     ]
    }
   ],
   "source": [
    "z3 = np.dot(sig2, W3) + b3\n",
    "print('z3.shape', z3.shape)\n",
    "print(z3)"
   ]
  },
  {
   "cell_type": "code",
   "execution_count": 21,
   "id": "502bd1c7-00fa-4b41-b135-cbe807743e7e",
   "metadata": {
    "colab": {
     "base_uri": "https://localhost:8080/"
    },
    "id": "502bd1c7-00fa-4b41-b135-cbe807743e7e",
    "outputId": "83707ded-8f95-4af8-bd8f-01381346502f"
   },
   "outputs": [
    {
     "name": "stdout",
     "output_type": "stream",
     "text": [
      "sfmax.shape (20, 10)\n",
      "[[0.09795023 0.09486222 0.0996657  0.10878574 0.11919129 0.08142651\n",
      "  0.10238012 0.09915623 0.10740325 0.08917872]\n",
      " [0.         0.         0.         0.         0.         0.\n",
      "  0.         0.         0.         0.        ]\n",
      " [0.         0.         0.         0.         0.         0.\n",
      "  0.         0.         0.         0.        ]\n",
      " [0.         0.         0.         0.         0.         0.\n",
      "  0.         0.         0.         0.        ]\n",
      " [0.         0.         0.         0.         0.         0.\n",
      "  0.         0.         0.         0.        ]\n",
      " [0.         0.         0.         0.         0.         0.\n",
      "  0.         0.         0.         0.        ]\n",
      " [0.         0.         0.         0.         0.         0.\n",
      "  0.         0.         0.         0.        ]\n",
      " [0.         0.         0.         0.         0.         0.\n",
      "  0.         0.         0.         0.        ]\n",
      " [0.         0.         0.         0.         0.         0.\n",
      "  0.         0.         0.         0.        ]\n",
      " [0.         0.         0.         0.         0.         0.\n",
      "  0.         0.         0.         0.        ]\n",
      " [0.         0.         0.         0.         0.         0.\n",
      "  0.         0.         0.         0.        ]\n",
      " [0.         0.         0.         0.         0.         0.\n",
      "  0.         0.         0.         0.        ]\n",
      " [0.         0.         0.         0.         0.         0.\n",
      "  0.         0.         0.         0.        ]\n",
      " [0.         0.         0.         0.         0.         0.\n",
      "  0.         0.         0.         0.        ]\n",
      " [0.         0.         0.         0.         0.         0.\n",
      "  0.         0.         0.         0.        ]\n",
      " [0.         0.         0.         0.         0.         0.\n",
      "  0.         0.         0.         0.        ]\n",
      " [0.         0.         0.         0.         0.         0.\n",
      "  0.         0.         0.         0.        ]\n",
      " [0.         0.         0.         0.         0.         0.\n",
      "  0.         0.         0.         0.        ]\n",
      " [0.         0.         0.         0.         0.         0.\n",
      "  0.         0.         0.         0.        ]\n",
      " [0.         0.         0.         0.         0.         0.\n",
      "  0.         0.         0.         0.        ]]\n",
      "0.9999999999999999\n",
      "sfmax.shape (20, 10)\n",
      "[[0.09795023 0.09486222 0.0996657  0.10878574 0.11919129 0.08142651\n",
      "  0.10238012 0.09915623 0.10740325 0.08917872]\n",
      " [0.09795937 0.09483218 0.09967877 0.10878633 0.11922463 0.08143352\n",
      "  0.10237121 0.09914988 0.10739224 0.08917188]\n",
      " [0.         0.         0.         0.         0.         0.\n",
      "  0.         0.         0.         0.        ]\n",
      " [0.         0.         0.         0.         0.         0.\n",
      "  0.         0.         0.         0.        ]\n",
      " [0.         0.         0.         0.         0.         0.\n",
      "  0.         0.         0.         0.        ]\n",
      " [0.         0.         0.         0.         0.         0.\n",
      "  0.         0.         0.         0.        ]\n",
      " [0.         0.         0.         0.         0.         0.\n",
      "  0.         0.         0.         0.        ]\n",
      " [0.         0.         0.         0.         0.         0.\n",
      "  0.         0.         0.         0.        ]\n",
      " [0.         0.         0.         0.         0.         0.\n",
      "  0.         0.         0.         0.        ]\n",
      " [0.         0.         0.         0.         0.         0.\n",
      "  0.         0.         0.         0.        ]\n",
      " [0.         0.         0.         0.         0.         0.\n",
      "  0.         0.         0.         0.        ]\n",
      " [0.         0.         0.         0.         0.         0.\n",
      "  0.         0.         0.         0.        ]\n",
      " [0.         0.         0.         0.         0.         0.\n",
      "  0.         0.         0.         0.        ]\n",
      " [0.         0.         0.         0.         0.         0.\n",
      "  0.         0.         0.         0.        ]\n",
      " [0.         0.         0.         0.         0.         0.\n",
      "  0.         0.         0.         0.        ]\n",
      " [0.         0.         0.         0.         0.         0.\n",
      "  0.         0.         0.         0.        ]\n",
      " [0.         0.         0.         0.         0.         0.\n",
      "  0.         0.         0.         0.        ]\n",
      " [0.         0.         0.         0.         0.         0.\n",
      "  0.         0.         0.         0.        ]\n",
      " [0.         0.         0.         0.         0.         0.\n",
      "  0.         0.         0.         0.        ]\n",
      " [0.         0.         0.         0.         0.         0.\n",
      "  0.         0.         0.         0.        ]]\n",
      "2.0\n",
      "sfmax.shape (20, 10)\n",
      "[[0.09795023 0.09486222 0.0996657  0.10878574 0.11919129 0.08142651\n",
      "  0.10238012 0.09915623 0.10740325 0.08917872]\n",
      " [0.09795937 0.09483218 0.09967877 0.10878633 0.11922463 0.08143352\n",
      "  0.10237121 0.09914988 0.10739224 0.08917188]\n",
      " [0.09794307 0.09485132 0.09969307 0.10880064 0.11920134 0.08141857\n",
      "  0.10237703 0.0991436  0.10739764 0.08917371]\n",
      " [0.         0.         0.         0.         0.         0.\n",
      "  0.         0.         0.         0.        ]\n",
      " [0.         0.         0.         0.         0.         0.\n",
      "  0.         0.         0.         0.        ]\n",
      " [0.         0.         0.         0.         0.         0.\n",
      "  0.         0.         0.         0.        ]\n",
      " [0.         0.         0.         0.         0.         0.\n",
      "  0.         0.         0.         0.        ]\n",
      " [0.         0.         0.         0.         0.         0.\n",
      "  0.         0.         0.         0.        ]\n",
      " [0.         0.         0.         0.         0.         0.\n",
      "  0.         0.         0.         0.        ]\n",
      " [0.         0.         0.         0.         0.         0.\n",
      "  0.         0.         0.         0.        ]\n",
      " [0.         0.         0.         0.         0.         0.\n",
      "  0.         0.         0.         0.        ]\n",
      " [0.         0.         0.         0.         0.         0.\n",
      "  0.         0.         0.         0.        ]\n",
      " [0.         0.         0.         0.         0.         0.\n",
      "  0.         0.         0.         0.        ]\n",
      " [0.         0.         0.         0.         0.         0.\n",
      "  0.         0.         0.         0.        ]\n",
      " [0.         0.         0.         0.         0.         0.\n",
      "  0.         0.         0.         0.        ]\n",
      " [0.         0.         0.         0.         0.         0.\n",
      "  0.         0.         0.         0.        ]\n",
      " [0.         0.         0.         0.         0.         0.\n",
      "  0.         0.         0.         0.        ]\n",
      " [0.         0.         0.         0.         0.         0.\n",
      "  0.         0.         0.         0.        ]\n",
      " [0.         0.         0.         0.         0.         0.\n",
      "  0.         0.         0.         0.        ]\n",
      " [0.         0.         0.         0.         0.         0.\n",
      "  0.         0.         0.         0.        ]]\n",
      "3.0\n",
      "sfmax.shape (20, 10)\n",
      "[[0.09795023 0.09486222 0.0996657  0.10878574 0.11919129 0.08142651\n",
      "  0.10238012 0.09915623 0.10740325 0.08917872]\n",
      " [0.09795937 0.09483218 0.09967877 0.10878633 0.11922463 0.08143352\n",
      "  0.10237121 0.09914988 0.10739224 0.08917188]\n",
      " [0.09794307 0.09485132 0.09969307 0.10880064 0.11920134 0.08141857\n",
      "  0.10237703 0.0991436  0.10739764 0.08917371]\n",
      " [0.09794599 0.09484291 0.09968167 0.10880628 0.11921292 0.08141601\n",
      "  0.10238689 0.09914898 0.1074013  0.08915706]\n",
      " [0.         0.         0.         0.         0.         0.\n",
      "  0.         0.         0.         0.        ]\n",
      " [0.         0.         0.         0.         0.         0.\n",
      "  0.         0.         0.         0.        ]\n",
      " [0.         0.         0.         0.         0.         0.\n",
      "  0.         0.         0.         0.        ]\n",
      " [0.         0.         0.         0.         0.         0.\n",
      "  0.         0.         0.         0.        ]\n",
      " [0.         0.         0.         0.         0.         0.\n",
      "  0.         0.         0.         0.        ]\n",
      " [0.         0.         0.         0.         0.         0.\n",
      "  0.         0.         0.         0.        ]\n",
      " [0.         0.         0.         0.         0.         0.\n",
      "  0.         0.         0.         0.        ]\n",
      " [0.         0.         0.         0.         0.         0.\n",
      "  0.         0.         0.         0.        ]\n",
      " [0.         0.         0.         0.         0.         0.\n",
      "  0.         0.         0.         0.        ]\n",
      " [0.         0.         0.         0.         0.         0.\n",
      "  0.         0.         0.         0.        ]\n",
      " [0.         0.         0.         0.         0.         0.\n",
      "  0.         0.         0.         0.        ]\n",
      " [0.         0.         0.         0.         0.         0.\n",
      "  0.         0.         0.         0.        ]\n",
      " [0.         0.         0.         0.         0.         0.\n",
      "  0.         0.         0.         0.        ]\n",
      " [0.         0.         0.         0.         0.         0.\n",
      "  0.         0.         0.         0.        ]\n",
      " [0.         0.         0.         0.         0.         0.\n",
      "  0.         0.         0.         0.        ]\n",
      " [0.         0.         0.         0.         0.         0.\n",
      "  0.         0.         0.         0.        ]]\n",
      "4.0\n",
      "sfmax.shape (20, 10)\n",
      "[[0.09795023 0.09486222 0.0996657  0.10878574 0.11919129 0.08142651\n",
      "  0.10238012 0.09915623 0.10740325 0.08917872]\n",
      " [0.09795937 0.09483218 0.09967877 0.10878633 0.11922463 0.08143352\n",
      "  0.10237121 0.09914988 0.10739224 0.08917188]\n",
      " [0.09794307 0.09485132 0.09969307 0.10880064 0.11920134 0.08141857\n",
      "  0.10237703 0.0991436  0.10739764 0.08917371]\n",
      " [0.09794599 0.09484291 0.09968167 0.10880628 0.11921292 0.08141601\n",
      "  0.10238689 0.09914898 0.1074013  0.08915706]\n",
      " [0.09794392 0.09485435 0.09967535 0.10879424 0.11920335 0.08142926\n",
      "  0.10237066 0.09914429 0.1074099  0.08917468]\n",
      " [0.         0.         0.         0.         0.         0.\n",
      "  0.         0.         0.         0.        ]\n",
      " [0.         0.         0.         0.         0.         0.\n",
      "  0.         0.         0.         0.        ]\n",
      " [0.         0.         0.         0.         0.         0.\n",
      "  0.         0.         0.         0.        ]\n",
      " [0.         0.         0.         0.         0.         0.\n",
      "  0.         0.         0.         0.        ]\n",
      " [0.         0.         0.         0.         0.         0.\n",
      "  0.         0.         0.         0.        ]\n",
      " [0.         0.         0.         0.         0.         0.\n",
      "  0.         0.         0.         0.        ]\n",
      " [0.         0.         0.         0.         0.         0.\n",
      "  0.         0.         0.         0.        ]\n",
      " [0.         0.         0.         0.         0.         0.\n",
      "  0.         0.         0.         0.        ]\n",
      " [0.         0.         0.         0.         0.         0.\n",
      "  0.         0.         0.         0.        ]\n",
      " [0.         0.         0.         0.         0.         0.\n",
      "  0.         0.         0.         0.        ]\n",
      " [0.         0.         0.         0.         0.         0.\n",
      "  0.         0.         0.         0.        ]\n",
      " [0.         0.         0.         0.         0.         0.\n",
      "  0.         0.         0.         0.        ]\n",
      " [0.         0.         0.         0.         0.         0.\n",
      "  0.         0.         0.         0.        ]\n",
      " [0.         0.         0.         0.         0.         0.\n",
      "  0.         0.         0.         0.        ]\n",
      " [0.         0.         0.         0.         0.         0.\n",
      "  0.         0.         0.         0.        ]]\n",
      "5.0\n",
      "sfmax.shape (20, 10)\n",
      "[[0.09795023 0.09486222 0.0996657  0.10878574 0.11919129 0.08142651\n",
      "  0.10238012 0.09915623 0.10740325 0.08917872]\n",
      " [0.09795937 0.09483218 0.09967877 0.10878633 0.11922463 0.08143352\n",
      "  0.10237121 0.09914988 0.10739224 0.08917188]\n",
      " [0.09794307 0.09485132 0.09969307 0.10880064 0.11920134 0.08141857\n",
      "  0.10237703 0.0991436  0.10739764 0.08917371]\n",
      " [0.09794599 0.09484291 0.09968167 0.10880628 0.11921292 0.08141601\n",
      "  0.10238689 0.09914898 0.1074013  0.08915706]\n",
      " [0.09794392 0.09485435 0.09967535 0.10879424 0.11920335 0.08142926\n",
      "  0.10237066 0.09914429 0.1074099  0.08917468]\n",
      " [0.09796373 0.09485936 0.09968513 0.10879388 0.119192   0.0814285\n",
      "  0.10235266 0.09913298 0.107409   0.08918275]\n",
      " [0.         0.         0.         0.         0.         0.\n",
      "  0.         0.         0.         0.        ]\n",
      " [0.         0.         0.         0.         0.         0.\n",
      "  0.         0.         0.         0.        ]\n",
      " [0.         0.         0.         0.         0.         0.\n",
      "  0.         0.         0.         0.        ]\n",
      " [0.         0.         0.         0.         0.         0.\n",
      "  0.         0.         0.         0.        ]\n",
      " [0.         0.         0.         0.         0.         0.\n",
      "  0.         0.         0.         0.        ]\n",
      " [0.         0.         0.         0.         0.         0.\n",
      "  0.         0.         0.         0.        ]\n",
      " [0.         0.         0.         0.         0.         0.\n",
      "  0.         0.         0.         0.        ]\n",
      " [0.         0.         0.         0.         0.         0.\n",
      "  0.         0.         0.         0.        ]\n",
      " [0.         0.         0.         0.         0.         0.\n",
      "  0.         0.         0.         0.        ]\n",
      " [0.         0.         0.         0.         0.         0.\n",
      "  0.         0.         0.         0.        ]\n",
      " [0.         0.         0.         0.         0.         0.\n",
      "  0.         0.         0.         0.        ]\n",
      " [0.         0.         0.         0.         0.         0.\n",
      "  0.         0.         0.         0.        ]\n",
      " [0.         0.         0.         0.         0.         0.\n",
      "  0.         0.         0.         0.        ]\n",
      " [0.         0.         0.         0.         0.         0.\n",
      "  0.         0.         0.         0.        ]]\n",
      "6.0\n",
      "sfmax.shape (20, 10)\n",
      "[[0.09795023 0.09486222 0.0996657  0.10878574 0.11919129 0.08142651\n",
      "  0.10238012 0.09915623 0.10740325 0.08917872]\n",
      " [0.09795937 0.09483218 0.09967877 0.10878633 0.11922463 0.08143352\n",
      "  0.10237121 0.09914988 0.10739224 0.08917188]\n",
      " [0.09794307 0.09485132 0.09969307 0.10880064 0.11920134 0.08141857\n",
      "  0.10237703 0.0991436  0.10739764 0.08917371]\n",
      " [0.09794599 0.09484291 0.09968167 0.10880628 0.11921292 0.08141601\n",
      "  0.10238689 0.09914898 0.1074013  0.08915706]\n",
      " [0.09794392 0.09485435 0.09967535 0.10879424 0.11920335 0.08142926\n",
      "  0.10237066 0.09914429 0.1074099  0.08917468]\n",
      " [0.09796373 0.09485936 0.09968513 0.10879388 0.119192   0.0814285\n",
      "  0.10235266 0.09913298 0.107409   0.08918275]\n",
      " [0.09794096 0.09483745 0.09967242 0.10880016 0.11920937 0.08142816\n",
      "  0.10239552 0.09914705 0.10739819 0.08917074]\n",
      " [0.         0.         0.         0.         0.         0.\n",
      "  0.         0.         0.         0.        ]\n",
      " [0.         0.         0.         0.         0.         0.\n",
      "  0.         0.         0.         0.        ]\n",
      " [0.         0.         0.         0.         0.         0.\n",
      "  0.         0.         0.         0.        ]\n",
      " [0.         0.         0.         0.         0.         0.\n",
      "  0.         0.         0.         0.        ]\n",
      " [0.         0.         0.         0.         0.         0.\n",
      "  0.         0.         0.         0.        ]\n",
      " [0.         0.         0.         0.         0.         0.\n",
      "  0.         0.         0.         0.        ]\n",
      " [0.         0.         0.         0.         0.         0.\n",
      "  0.         0.         0.         0.        ]\n",
      " [0.         0.         0.         0.         0.         0.\n",
      "  0.         0.         0.         0.        ]\n",
      " [0.         0.         0.         0.         0.         0.\n",
      "  0.         0.         0.         0.        ]\n",
      " [0.         0.         0.         0.         0.         0.\n",
      "  0.         0.         0.         0.        ]\n",
      " [0.         0.         0.         0.         0.         0.\n",
      "  0.         0.         0.         0.        ]\n",
      " [0.         0.         0.         0.         0.         0.\n",
      "  0.         0.         0.         0.        ]\n",
      " [0.         0.         0.         0.         0.         0.\n",
      "  0.         0.         0.         0.        ]]\n",
      "7.0\n",
      "sfmax.shape (20, 10)\n",
      "[[0.09795023 0.09486222 0.0996657  0.10878574 0.11919129 0.08142651\n",
      "  0.10238012 0.09915623 0.10740325 0.08917872]\n",
      " [0.09795937 0.09483218 0.09967877 0.10878633 0.11922463 0.08143352\n",
      "  0.10237121 0.09914988 0.10739224 0.08917188]\n",
      " [0.09794307 0.09485132 0.09969307 0.10880064 0.11920134 0.08141857\n",
      "  0.10237703 0.0991436  0.10739764 0.08917371]\n",
      " [0.09794599 0.09484291 0.09968167 0.10880628 0.11921292 0.08141601\n",
      "  0.10238689 0.09914898 0.1074013  0.08915706]\n",
      " [0.09794392 0.09485435 0.09967535 0.10879424 0.11920335 0.08142926\n",
      "  0.10237066 0.09914429 0.1074099  0.08917468]\n",
      " [0.09796373 0.09485936 0.09968513 0.10879388 0.119192   0.0814285\n",
      "  0.10235266 0.09913298 0.107409   0.08918275]\n",
      " [0.09794096 0.09483745 0.09967242 0.10880016 0.11920937 0.08142816\n",
      "  0.10239552 0.09914705 0.10739819 0.08917074]\n",
      " [0.09794013 0.09484722 0.09968579 0.10881876 0.11918722 0.08143851\n",
      "  0.10238695 0.09913304 0.10739385 0.08916854]\n",
      " [0.         0.         0.         0.         0.         0.\n",
      "  0.         0.         0.         0.        ]\n",
      " [0.         0.         0.         0.         0.         0.\n",
      "  0.         0.         0.         0.        ]\n",
      " [0.         0.         0.         0.         0.         0.\n",
      "  0.         0.         0.         0.        ]\n",
      " [0.         0.         0.         0.         0.         0.\n",
      "  0.         0.         0.         0.        ]\n",
      " [0.         0.         0.         0.         0.         0.\n",
      "  0.         0.         0.         0.        ]\n",
      " [0.         0.         0.         0.         0.         0.\n",
      "  0.         0.         0.         0.        ]\n",
      " [0.         0.         0.         0.         0.         0.\n",
      "  0.         0.         0.         0.        ]\n",
      " [0.         0.         0.         0.         0.         0.\n",
      "  0.         0.         0.         0.        ]\n",
      " [0.         0.         0.         0.         0.         0.\n",
      "  0.         0.         0.         0.        ]\n",
      " [0.         0.         0.         0.         0.         0.\n",
      "  0.         0.         0.         0.        ]\n",
      " [0.         0.         0.         0.         0.         0.\n",
      "  0.         0.         0.         0.        ]\n",
      " [0.         0.         0.         0.         0.         0.\n",
      "  0.         0.         0.         0.        ]]\n",
      "8.0\n",
      "sfmax.shape (20, 10)\n",
      "[[0.09795023 0.09486222 0.0996657  0.10878574 0.11919129 0.08142651\n",
      "  0.10238012 0.09915623 0.10740325 0.08917872]\n",
      " [0.09795937 0.09483218 0.09967877 0.10878633 0.11922463 0.08143352\n",
      "  0.10237121 0.09914988 0.10739224 0.08917188]\n",
      " [0.09794307 0.09485132 0.09969307 0.10880064 0.11920134 0.08141857\n",
      "  0.10237703 0.0991436  0.10739764 0.08917371]\n",
      " [0.09794599 0.09484291 0.09968167 0.10880628 0.11921292 0.08141601\n",
      "  0.10238689 0.09914898 0.1074013  0.08915706]\n",
      " [0.09794392 0.09485435 0.09967535 0.10879424 0.11920335 0.08142926\n",
      "  0.10237066 0.09914429 0.1074099  0.08917468]\n",
      " [0.09796373 0.09485936 0.09968513 0.10879388 0.119192   0.0814285\n",
      "  0.10235266 0.09913298 0.107409   0.08918275]\n",
      " [0.09794096 0.09483745 0.09967242 0.10880016 0.11920937 0.08142816\n",
      "  0.10239552 0.09914705 0.10739819 0.08917074]\n",
      " [0.09794013 0.09484722 0.09968579 0.10881876 0.11918722 0.08143851\n",
      "  0.10238695 0.09913304 0.10739385 0.08916854]\n",
      " [0.09795767 0.09485287 0.09967957 0.1088     0.11918957 0.08142897\n",
      "  0.10238287 0.0991315  0.107406   0.08917098]\n",
      " [0.         0.         0.         0.         0.         0.\n",
      "  0.         0.         0.         0.        ]\n",
      " [0.         0.         0.         0.         0.         0.\n",
      "  0.         0.         0.         0.        ]\n",
      " [0.         0.         0.         0.         0.         0.\n",
      "  0.         0.         0.         0.        ]\n",
      " [0.         0.         0.         0.         0.         0.\n",
      "  0.         0.         0.         0.        ]\n",
      " [0.         0.         0.         0.         0.         0.\n",
      "  0.         0.         0.         0.        ]\n",
      " [0.         0.         0.         0.         0.         0.\n",
      "  0.         0.         0.         0.        ]\n",
      " [0.         0.         0.         0.         0.         0.\n",
      "  0.         0.         0.         0.        ]\n",
      " [0.         0.         0.         0.         0.         0.\n",
      "  0.         0.         0.         0.        ]\n",
      " [0.         0.         0.         0.         0.         0.\n",
      "  0.         0.         0.         0.        ]\n",
      " [0.         0.         0.         0.         0.         0.\n",
      "  0.         0.         0.         0.        ]\n",
      " [0.         0.         0.         0.         0.         0.\n",
      "  0.         0.         0.         0.        ]]\n",
      "9.0\n",
      "sfmax.shape (20, 10)\n",
      "[[0.09795023 0.09486222 0.0996657  0.10878574 0.11919129 0.08142651\n",
      "  0.10238012 0.09915623 0.10740325 0.08917872]\n",
      " [0.09795937 0.09483218 0.09967877 0.10878633 0.11922463 0.08143352\n",
      "  0.10237121 0.09914988 0.10739224 0.08917188]\n",
      " [0.09794307 0.09485132 0.09969307 0.10880064 0.11920134 0.08141857\n",
      "  0.10237703 0.0991436  0.10739764 0.08917371]\n",
      " [0.09794599 0.09484291 0.09968167 0.10880628 0.11921292 0.08141601\n",
      "  0.10238689 0.09914898 0.1074013  0.08915706]\n",
      " [0.09794392 0.09485435 0.09967535 0.10879424 0.11920335 0.08142926\n",
      "  0.10237066 0.09914429 0.1074099  0.08917468]\n",
      " [0.09796373 0.09485936 0.09968513 0.10879388 0.119192   0.0814285\n",
      "  0.10235266 0.09913298 0.107409   0.08918275]\n",
      " [0.09794096 0.09483745 0.09967242 0.10880016 0.11920937 0.08142816\n",
      "  0.10239552 0.09914705 0.10739819 0.08917074]\n",
      " [0.09794013 0.09484722 0.09968579 0.10881876 0.11918722 0.08143851\n",
      "  0.10238695 0.09913304 0.10739385 0.08916854]\n",
      " [0.09795767 0.09485287 0.09967957 0.1088     0.11918957 0.08142897\n",
      "  0.10238287 0.0991315  0.107406   0.08917098]\n",
      " [0.09794664 0.09484605 0.0996621  0.10881529 0.11918202 0.08143321\n",
      "  0.10239    0.09915661 0.10739398 0.0891741 ]\n",
      " [0.         0.         0.         0.         0.         0.\n",
      "  0.         0.         0.         0.        ]\n",
      " [0.         0.         0.         0.         0.         0.\n",
      "  0.         0.         0.         0.        ]\n",
      " [0.         0.         0.         0.         0.         0.\n",
      "  0.         0.         0.         0.        ]\n",
      " [0.         0.         0.         0.         0.         0.\n",
      "  0.         0.         0.         0.        ]\n",
      " [0.         0.         0.         0.         0.         0.\n",
      "  0.         0.         0.         0.        ]\n",
      " [0.         0.         0.         0.         0.         0.\n",
      "  0.         0.         0.         0.        ]\n",
      " [0.         0.         0.         0.         0.         0.\n",
      "  0.         0.         0.         0.        ]\n",
      " [0.         0.         0.         0.         0.         0.\n",
      "  0.         0.         0.         0.        ]\n",
      " [0.         0.         0.         0.         0.         0.\n",
      "  0.         0.         0.         0.        ]\n",
      " [0.         0.         0.         0.         0.         0.\n",
      "  0.         0.         0.         0.        ]]\n",
      "10.0\n",
      "sfmax.shape (20, 10)\n",
      "[[0.09795023 0.09486222 0.0996657  0.10878574 0.11919129 0.08142651\n",
      "  0.10238012 0.09915623 0.10740325 0.08917872]\n",
      " [0.09795937 0.09483218 0.09967877 0.10878633 0.11922463 0.08143352\n",
      "  0.10237121 0.09914988 0.10739224 0.08917188]\n",
      " [0.09794307 0.09485132 0.09969307 0.10880064 0.11920134 0.08141857\n",
      "  0.10237703 0.0991436  0.10739764 0.08917371]\n",
      " [0.09794599 0.09484291 0.09968167 0.10880628 0.11921292 0.08141601\n",
      "  0.10238689 0.09914898 0.1074013  0.08915706]\n",
      " [0.09794392 0.09485435 0.09967535 0.10879424 0.11920335 0.08142926\n",
      "  0.10237066 0.09914429 0.1074099  0.08917468]\n",
      " [0.09796373 0.09485936 0.09968513 0.10879388 0.119192   0.0814285\n",
      "  0.10235266 0.09913298 0.107409   0.08918275]\n",
      " [0.09794096 0.09483745 0.09967242 0.10880016 0.11920937 0.08142816\n",
      "  0.10239552 0.09914705 0.10739819 0.08917074]\n",
      " [0.09794013 0.09484722 0.09968579 0.10881876 0.11918722 0.08143851\n",
      "  0.10238695 0.09913304 0.10739385 0.08916854]\n",
      " [0.09795767 0.09485287 0.09967957 0.1088     0.11918957 0.08142897\n",
      "  0.10238287 0.0991315  0.107406   0.08917098]\n",
      " [0.09794664 0.09484605 0.0996621  0.10881529 0.11918202 0.08143321\n",
      "  0.10239    0.09915661 0.10739398 0.0891741 ]\n",
      " [0.09792825 0.09484408 0.09967888 0.10880665 0.11921658 0.0814169\n",
      "  0.1023841  0.09914645 0.10741375 0.08916436]\n",
      " [0.         0.         0.         0.         0.         0.\n",
      "  0.         0.         0.         0.        ]\n",
      " [0.         0.         0.         0.         0.         0.\n",
      "  0.         0.         0.         0.        ]\n",
      " [0.         0.         0.         0.         0.         0.\n",
      "  0.         0.         0.         0.        ]\n",
      " [0.         0.         0.         0.         0.         0.\n",
      "  0.         0.         0.         0.        ]\n",
      " [0.         0.         0.         0.         0.         0.\n",
      "  0.         0.         0.         0.        ]\n",
      " [0.         0.         0.         0.         0.         0.\n",
      "  0.         0.         0.         0.        ]\n",
      " [0.         0.         0.         0.         0.         0.\n",
      "  0.         0.         0.         0.        ]\n",
      " [0.         0.         0.         0.         0.         0.\n",
      "  0.         0.         0.         0.        ]\n",
      " [0.         0.         0.         0.         0.         0.\n",
      "  0.         0.         0.         0.        ]]\n",
      "11.0\n",
      "sfmax.shape (20, 10)\n",
      "[[0.09795023 0.09486222 0.0996657  0.10878574 0.11919129 0.08142651\n",
      "  0.10238012 0.09915623 0.10740325 0.08917872]\n",
      " [0.09795937 0.09483218 0.09967877 0.10878633 0.11922463 0.08143352\n",
      "  0.10237121 0.09914988 0.10739224 0.08917188]\n",
      " [0.09794307 0.09485132 0.09969307 0.10880064 0.11920134 0.08141857\n",
      "  0.10237703 0.0991436  0.10739764 0.08917371]\n",
      " [0.09794599 0.09484291 0.09968167 0.10880628 0.11921292 0.08141601\n",
      "  0.10238689 0.09914898 0.1074013  0.08915706]\n",
      " [0.09794392 0.09485435 0.09967535 0.10879424 0.11920335 0.08142926\n",
      "  0.10237066 0.09914429 0.1074099  0.08917468]\n",
      " [0.09796373 0.09485936 0.09968513 0.10879388 0.119192   0.0814285\n",
      "  0.10235266 0.09913298 0.107409   0.08918275]\n",
      " [0.09794096 0.09483745 0.09967242 0.10880016 0.11920937 0.08142816\n",
      "  0.10239552 0.09914705 0.10739819 0.08917074]\n",
      " [0.09794013 0.09484722 0.09968579 0.10881876 0.11918722 0.08143851\n",
      "  0.10238695 0.09913304 0.10739385 0.08916854]\n",
      " [0.09795767 0.09485287 0.09967957 0.1088     0.11918957 0.08142897\n",
      "  0.10238287 0.0991315  0.107406   0.08917098]\n",
      " [0.09794664 0.09484605 0.0996621  0.10881529 0.11918202 0.08143321\n",
      "  0.10239    0.09915661 0.10739398 0.0891741 ]\n",
      " [0.09792825 0.09484408 0.09967888 0.10880665 0.11921658 0.0814169\n",
      "  0.1023841  0.09914645 0.10741375 0.08916436]\n",
      " [0.09793831 0.09482774 0.0996819  0.10880385 0.11918221 0.0814285\n",
      "  0.10238828 0.09915639 0.10741205 0.08918078]\n",
      " [0.         0.         0.         0.         0.         0.\n",
      "  0.         0.         0.         0.        ]\n",
      " [0.         0.         0.         0.         0.         0.\n",
      "  0.         0.         0.         0.        ]\n",
      " [0.         0.         0.         0.         0.         0.\n",
      "  0.         0.         0.         0.        ]\n",
      " [0.         0.         0.         0.         0.         0.\n",
      "  0.         0.         0.         0.        ]\n",
      " [0.         0.         0.         0.         0.         0.\n",
      "  0.         0.         0.         0.        ]\n",
      " [0.         0.         0.         0.         0.         0.\n",
      "  0.         0.         0.         0.        ]\n",
      " [0.         0.         0.         0.         0.         0.\n",
      "  0.         0.         0.         0.        ]\n",
      " [0.         0.         0.         0.         0.         0.\n",
      "  0.         0.         0.         0.        ]]\n",
      "12.0\n",
      "sfmax.shape (20, 10)\n",
      "[[0.09795023 0.09486222 0.0996657  0.10878574 0.11919129 0.08142651\n",
      "  0.10238012 0.09915623 0.10740325 0.08917872]\n",
      " [0.09795937 0.09483218 0.09967877 0.10878633 0.11922463 0.08143352\n",
      "  0.10237121 0.09914988 0.10739224 0.08917188]\n",
      " [0.09794307 0.09485132 0.09969307 0.10880064 0.11920134 0.08141857\n",
      "  0.10237703 0.0991436  0.10739764 0.08917371]\n",
      " [0.09794599 0.09484291 0.09968167 0.10880628 0.11921292 0.08141601\n",
      "  0.10238689 0.09914898 0.1074013  0.08915706]\n",
      " [0.09794392 0.09485435 0.09967535 0.10879424 0.11920335 0.08142926\n",
      "  0.10237066 0.09914429 0.1074099  0.08917468]\n",
      " [0.09796373 0.09485936 0.09968513 0.10879388 0.119192   0.0814285\n",
      "  0.10235266 0.09913298 0.107409   0.08918275]\n",
      " [0.09794096 0.09483745 0.09967242 0.10880016 0.11920937 0.08142816\n",
      "  0.10239552 0.09914705 0.10739819 0.08917074]\n",
      " [0.09794013 0.09484722 0.09968579 0.10881876 0.11918722 0.08143851\n",
      "  0.10238695 0.09913304 0.10739385 0.08916854]\n",
      " [0.09795767 0.09485287 0.09967957 0.1088     0.11918957 0.08142897\n",
      "  0.10238287 0.0991315  0.107406   0.08917098]\n",
      " [0.09794664 0.09484605 0.0996621  0.10881529 0.11918202 0.08143321\n",
      "  0.10239    0.09915661 0.10739398 0.0891741 ]\n",
      " [0.09792825 0.09484408 0.09967888 0.10880665 0.11921658 0.0814169\n",
      "  0.1023841  0.09914645 0.10741375 0.08916436]\n",
      " [0.09793831 0.09482774 0.0996819  0.10880385 0.11918221 0.0814285\n",
      "  0.10238828 0.09915639 0.10741205 0.08918078]\n",
      " [0.09794948 0.09483665 0.09967815 0.10879311 0.11921692 0.08142154\n",
      "  0.1023781  0.09915161 0.1074025  0.08917196]\n",
      " [0.         0.         0.         0.         0.         0.\n",
      "  0.         0.         0.         0.        ]\n",
      " [0.         0.         0.         0.         0.         0.\n",
      "  0.         0.         0.         0.        ]\n",
      " [0.         0.         0.         0.         0.         0.\n",
      "  0.         0.         0.         0.        ]\n",
      " [0.         0.         0.         0.         0.         0.\n",
      "  0.         0.         0.         0.        ]\n",
      " [0.         0.         0.         0.         0.         0.\n",
      "  0.         0.         0.         0.        ]\n",
      " [0.         0.         0.         0.         0.         0.\n",
      "  0.         0.         0.         0.        ]\n",
      " [0.         0.         0.         0.         0.         0.\n",
      "  0.         0.         0.         0.        ]]\n",
      "13.0\n",
      "sfmax.shape (20, 10)\n",
      "[[0.09795023 0.09486222 0.0996657  0.10878574 0.11919129 0.08142651\n",
      "  0.10238012 0.09915623 0.10740325 0.08917872]\n",
      " [0.09795937 0.09483218 0.09967877 0.10878633 0.11922463 0.08143352\n",
      "  0.10237121 0.09914988 0.10739224 0.08917188]\n",
      " [0.09794307 0.09485132 0.09969307 0.10880064 0.11920134 0.08141857\n",
      "  0.10237703 0.0991436  0.10739764 0.08917371]\n",
      " [0.09794599 0.09484291 0.09968167 0.10880628 0.11921292 0.08141601\n",
      "  0.10238689 0.09914898 0.1074013  0.08915706]\n",
      " [0.09794392 0.09485435 0.09967535 0.10879424 0.11920335 0.08142926\n",
      "  0.10237066 0.09914429 0.1074099  0.08917468]\n",
      " [0.09796373 0.09485936 0.09968513 0.10879388 0.119192   0.0814285\n",
      "  0.10235266 0.09913298 0.107409   0.08918275]\n",
      " [0.09794096 0.09483745 0.09967242 0.10880016 0.11920937 0.08142816\n",
      "  0.10239552 0.09914705 0.10739819 0.08917074]\n",
      " [0.09794013 0.09484722 0.09968579 0.10881876 0.11918722 0.08143851\n",
      "  0.10238695 0.09913304 0.10739385 0.08916854]\n",
      " [0.09795767 0.09485287 0.09967957 0.1088     0.11918957 0.08142897\n",
      "  0.10238287 0.0991315  0.107406   0.08917098]\n",
      " [0.09794664 0.09484605 0.0996621  0.10881529 0.11918202 0.08143321\n",
      "  0.10239    0.09915661 0.10739398 0.0891741 ]\n",
      " [0.09792825 0.09484408 0.09967888 0.10880665 0.11921658 0.0814169\n",
      "  0.1023841  0.09914645 0.10741375 0.08916436]\n",
      " [0.09793831 0.09482774 0.0996819  0.10880385 0.11918221 0.0814285\n",
      "  0.10238828 0.09915639 0.10741205 0.08918078]\n",
      " [0.09794948 0.09483665 0.09967815 0.10879311 0.11921692 0.08142154\n",
      "  0.1023781  0.09915161 0.1074025  0.08917196]\n",
      " [0.09793807 0.09484974 0.0996812  0.10879199 0.1192208  0.08142406\n",
      "  0.10236266 0.09914659 0.10741626 0.08916862]\n",
      " [0.         0.         0.         0.         0.         0.\n",
      "  0.         0.         0.         0.        ]\n",
      " [0.         0.         0.         0.         0.         0.\n",
      "  0.         0.         0.         0.        ]\n",
      " [0.         0.         0.         0.         0.         0.\n",
      "  0.         0.         0.         0.        ]\n",
      " [0.         0.         0.         0.         0.         0.\n",
      "  0.         0.         0.         0.        ]\n",
      " [0.         0.         0.         0.         0.         0.\n",
      "  0.         0.         0.         0.        ]\n",
      " [0.         0.         0.         0.         0.         0.\n",
      "  0.         0.         0.         0.        ]]\n",
      "14.0\n",
      "sfmax.shape (20, 10)\n",
      "[[0.09795023 0.09486222 0.0996657  0.10878574 0.11919129 0.08142651\n",
      "  0.10238012 0.09915623 0.10740325 0.08917872]\n",
      " [0.09795937 0.09483218 0.09967877 0.10878633 0.11922463 0.08143352\n",
      "  0.10237121 0.09914988 0.10739224 0.08917188]\n",
      " [0.09794307 0.09485132 0.09969307 0.10880064 0.11920134 0.08141857\n",
      "  0.10237703 0.0991436  0.10739764 0.08917371]\n",
      " [0.09794599 0.09484291 0.09968167 0.10880628 0.11921292 0.08141601\n",
      "  0.10238689 0.09914898 0.1074013  0.08915706]\n",
      " [0.09794392 0.09485435 0.09967535 0.10879424 0.11920335 0.08142926\n",
      "  0.10237066 0.09914429 0.1074099  0.08917468]\n",
      " [0.09796373 0.09485936 0.09968513 0.10879388 0.119192   0.0814285\n",
      "  0.10235266 0.09913298 0.107409   0.08918275]\n",
      " [0.09794096 0.09483745 0.09967242 0.10880016 0.11920937 0.08142816\n",
      "  0.10239552 0.09914705 0.10739819 0.08917074]\n",
      " [0.09794013 0.09484722 0.09968579 0.10881876 0.11918722 0.08143851\n",
      "  0.10238695 0.09913304 0.10739385 0.08916854]\n",
      " [0.09795767 0.09485287 0.09967957 0.1088     0.11918957 0.08142897\n",
      "  0.10238287 0.0991315  0.107406   0.08917098]\n",
      " [0.09794664 0.09484605 0.0996621  0.10881529 0.11918202 0.08143321\n",
      "  0.10239    0.09915661 0.10739398 0.0891741 ]\n",
      " [0.09792825 0.09484408 0.09967888 0.10880665 0.11921658 0.0814169\n",
      "  0.1023841  0.09914645 0.10741375 0.08916436]\n",
      " [0.09793831 0.09482774 0.0996819  0.10880385 0.11918221 0.0814285\n",
      "  0.10238828 0.09915639 0.10741205 0.08918078]\n",
      " [0.09794948 0.09483665 0.09967815 0.10879311 0.11921692 0.08142154\n",
      "  0.1023781  0.09915161 0.1074025  0.08917196]\n",
      " [0.09793807 0.09484974 0.0996812  0.10879199 0.1192208  0.08142406\n",
      "  0.10236266 0.09914659 0.10741626 0.08916862]\n",
      " [0.09794647 0.09482073 0.09968696 0.10878489 0.11919321 0.08142786\n",
      "  0.10240257 0.09916861 0.10740229 0.08916641]\n",
      " [0.         0.         0.         0.         0.         0.\n",
      "  0.         0.         0.         0.        ]\n",
      " [0.         0.         0.         0.         0.         0.\n",
      "  0.         0.         0.         0.        ]\n",
      " [0.         0.         0.         0.         0.         0.\n",
      "  0.         0.         0.         0.        ]\n",
      " [0.         0.         0.         0.         0.         0.\n",
      "  0.         0.         0.         0.        ]\n",
      " [0.         0.         0.         0.         0.         0.\n",
      "  0.         0.         0.         0.        ]]\n",
      "15.0\n",
      "sfmax.shape (20, 10)\n",
      "[[0.09795023 0.09486222 0.0996657  0.10878574 0.11919129 0.08142651\n",
      "  0.10238012 0.09915623 0.10740325 0.08917872]\n",
      " [0.09795937 0.09483218 0.09967877 0.10878633 0.11922463 0.08143352\n",
      "  0.10237121 0.09914988 0.10739224 0.08917188]\n",
      " [0.09794307 0.09485132 0.09969307 0.10880064 0.11920134 0.08141857\n",
      "  0.10237703 0.0991436  0.10739764 0.08917371]\n",
      " [0.09794599 0.09484291 0.09968167 0.10880628 0.11921292 0.08141601\n",
      "  0.10238689 0.09914898 0.1074013  0.08915706]\n",
      " [0.09794392 0.09485435 0.09967535 0.10879424 0.11920335 0.08142926\n",
      "  0.10237066 0.09914429 0.1074099  0.08917468]\n",
      " [0.09796373 0.09485936 0.09968513 0.10879388 0.119192   0.0814285\n",
      "  0.10235266 0.09913298 0.107409   0.08918275]\n",
      " [0.09794096 0.09483745 0.09967242 0.10880016 0.11920937 0.08142816\n",
      "  0.10239552 0.09914705 0.10739819 0.08917074]\n",
      " [0.09794013 0.09484722 0.09968579 0.10881876 0.11918722 0.08143851\n",
      "  0.10238695 0.09913304 0.10739385 0.08916854]\n",
      " [0.09795767 0.09485287 0.09967957 0.1088     0.11918957 0.08142897\n",
      "  0.10238287 0.0991315  0.107406   0.08917098]\n",
      " [0.09794664 0.09484605 0.0996621  0.10881529 0.11918202 0.08143321\n",
      "  0.10239    0.09915661 0.10739398 0.0891741 ]\n",
      " [0.09792825 0.09484408 0.09967888 0.10880665 0.11921658 0.0814169\n",
      "  0.1023841  0.09914645 0.10741375 0.08916436]\n",
      " [0.09793831 0.09482774 0.0996819  0.10880385 0.11918221 0.0814285\n",
      "  0.10238828 0.09915639 0.10741205 0.08918078]\n",
      " [0.09794948 0.09483665 0.09967815 0.10879311 0.11921692 0.08142154\n",
      "  0.1023781  0.09915161 0.1074025  0.08917196]\n",
      " [0.09793807 0.09484974 0.0996812  0.10879199 0.1192208  0.08142406\n",
      "  0.10236266 0.09914659 0.10741626 0.08916862]\n",
      " [0.09794647 0.09482073 0.09968696 0.10878489 0.11919321 0.08142786\n",
      "  0.10240257 0.09916861 0.10740229 0.08916641]\n",
      " [0.09794454 0.09485344 0.09968352 0.10880449 0.11919612 0.08142382\n",
      "  0.10236572 0.09914444 0.10741891 0.08916501]\n",
      " [0.         0.         0.         0.         0.         0.\n",
      "  0.         0.         0.         0.        ]\n",
      " [0.         0.         0.         0.         0.         0.\n",
      "  0.         0.         0.         0.        ]\n",
      " [0.         0.         0.         0.         0.         0.\n",
      "  0.         0.         0.         0.        ]\n",
      " [0.         0.         0.         0.         0.         0.\n",
      "  0.         0.         0.         0.        ]]\n",
      "16.0\n",
      "sfmax.shape (20, 10)\n",
      "[[0.09795023 0.09486222 0.0996657  0.10878574 0.11919129 0.08142651\n",
      "  0.10238012 0.09915623 0.10740325 0.08917872]\n",
      " [0.09795937 0.09483218 0.09967877 0.10878633 0.11922463 0.08143352\n",
      "  0.10237121 0.09914988 0.10739224 0.08917188]\n",
      " [0.09794307 0.09485132 0.09969307 0.10880064 0.11920134 0.08141857\n",
      "  0.10237703 0.0991436  0.10739764 0.08917371]\n",
      " [0.09794599 0.09484291 0.09968167 0.10880628 0.11921292 0.08141601\n",
      "  0.10238689 0.09914898 0.1074013  0.08915706]\n",
      " [0.09794392 0.09485435 0.09967535 0.10879424 0.11920335 0.08142926\n",
      "  0.10237066 0.09914429 0.1074099  0.08917468]\n",
      " [0.09796373 0.09485936 0.09968513 0.10879388 0.119192   0.0814285\n",
      "  0.10235266 0.09913298 0.107409   0.08918275]\n",
      " [0.09794096 0.09483745 0.09967242 0.10880016 0.11920937 0.08142816\n",
      "  0.10239552 0.09914705 0.10739819 0.08917074]\n",
      " [0.09794013 0.09484722 0.09968579 0.10881876 0.11918722 0.08143851\n",
      "  0.10238695 0.09913304 0.10739385 0.08916854]\n",
      " [0.09795767 0.09485287 0.09967957 0.1088     0.11918957 0.08142897\n",
      "  0.10238287 0.0991315  0.107406   0.08917098]\n",
      " [0.09794664 0.09484605 0.0996621  0.10881529 0.11918202 0.08143321\n",
      "  0.10239    0.09915661 0.10739398 0.0891741 ]\n",
      " [0.09792825 0.09484408 0.09967888 0.10880665 0.11921658 0.0814169\n",
      "  0.1023841  0.09914645 0.10741375 0.08916436]\n",
      " [0.09793831 0.09482774 0.0996819  0.10880385 0.11918221 0.0814285\n",
      "  0.10238828 0.09915639 0.10741205 0.08918078]\n",
      " [0.09794948 0.09483665 0.09967815 0.10879311 0.11921692 0.08142154\n",
      "  0.1023781  0.09915161 0.1074025  0.08917196]\n",
      " [0.09793807 0.09484974 0.0996812  0.10879199 0.1192208  0.08142406\n",
      "  0.10236266 0.09914659 0.10741626 0.08916862]\n",
      " [0.09794647 0.09482073 0.09968696 0.10878489 0.11919321 0.08142786\n",
      "  0.10240257 0.09916861 0.10740229 0.08916641]\n",
      " [0.09794454 0.09485344 0.09968352 0.10880449 0.11919612 0.08142382\n",
      "  0.10236572 0.09914444 0.10741891 0.08916501]\n",
      " [0.09793622 0.09485816 0.09968155 0.10879226 0.11921379 0.08141675\n",
      "  0.10236652 0.09914258 0.10741099 0.08918118]\n",
      " [0.         0.         0.         0.         0.         0.\n",
      "  0.         0.         0.         0.        ]\n",
      " [0.         0.         0.         0.         0.         0.\n",
      "  0.         0.         0.         0.        ]\n",
      " [0.         0.         0.         0.         0.         0.\n",
      "  0.         0.         0.         0.        ]]\n",
      "17.0\n",
      "sfmax.shape (20, 10)\n",
      "[[0.09795023 0.09486222 0.0996657  0.10878574 0.11919129 0.08142651\n",
      "  0.10238012 0.09915623 0.10740325 0.08917872]\n",
      " [0.09795937 0.09483218 0.09967877 0.10878633 0.11922463 0.08143352\n",
      "  0.10237121 0.09914988 0.10739224 0.08917188]\n",
      " [0.09794307 0.09485132 0.09969307 0.10880064 0.11920134 0.08141857\n",
      "  0.10237703 0.0991436  0.10739764 0.08917371]\n",
      " [0.09794599 0.09484291 0.09968167 0.10880628 0.11921292 0.08141601\n",
      "  0.10238689 0.09914898 0.1074013  0.08915706]\n",
      " [0.09794392 0.09485435 0.09967535 0.10879424 0.11920335 0.08142926\n",
      "  0.10237066 0.09914429 0.1074099  0.08917468]\n",
      " [0.09796373 0.09485936 0.09968513 0.10879388 0.119192   0.0814285\n",
      "  0.10235266 0.09913298 0.107409   0.08918275]\n",
      " [0.09794096 0.09483745 0.09967242 0.10880016 0.11920937 0.08142816\n",
      "  0.10239552 0.09914705 0.10739819 0.08917074]\n",
      " [0.09794013 0.09484722 0.09968579 0.10881876 0.11918722 0.08143851\n",
      "  0.10238695 0.09913304 0.10739385 0.08916854]\n",
      " [0.09795767 0.09485287 0.09967957 0.1088     0.11918957 0.08142897\n",
      "  0.10238287 0.0991315  0.107406   0.08917098]\n",
      " [0.09794664 0.09484605 0.0996621  0.10881529 0.11918202 0.08143321\n",
      "  0.10239    0.09915661 0.10739398 0.0891741 ]\n",
      " [0.09792825 0.09484408 0.09967888 0.10880665 0.11921658 0.0814169\n",
      "  0.1023841  0.09914645 0.10741375 0.08916436]\n",
      " [0.09793831 0.09482774 0.0996819  0.10880385 0.11918221 0.0814285\n",
      "  0.10238828 0.09915639 0.10741205 0.08918078]\n",
      " [0.09794948 0.09483665 0.09967815 0.10879311 0.11921692 0.08142154\n",
      "  0.1023781  0.09915161 0.1074025  0.08917196]\n",
      " [0.09793807 0.09484974 0.0996812  0.10879199 0.1192208  0.08142406\n",
      "  0.10236266 0.09914659 0.10741626 0.08916862]\n",
      " [0.09794647 0.09482073 0.09968696 0.10878489 0.11919321 0.08142786\n",
      "  0.10240257 0.09916861 0.10740229 0.08916641]\n",
      " [0.09794454 0.09485344 0.09968352 0.10880449 0.11919612 0.08142382\n",
      "  0.10236572 0.09914444 0.10741891 0.08916501]\n",
      " [0.09793622 0.09485816 0.09968155 0.10879226 0.11921379 0.08141675\n",
      "  0.10236652 0.09914258 0.10741099 0.08918118]\n",
      " [0.09792936 0.09485332 0.09968848 0.1088226  0.11921458 0.08141798\n",
      "  0.10237701 0.09913774 0.10740621 0.08915273]\n",
      " [0.         0.         0.         0.         0.         0.\n",
      "  0.         0.         0.         0.        ]\n",
      " [0.         0.         0.         0.         0.         0.\n",
      "  0.         0.         0.         0.        ]]\n",
      "18.0\n",
      "sfmax.shape (20, 10)\n",
      "[[0.09795023 0.09486222 0.0996657  0.10878574 0.11919129 0.08142651\n",
      "  0.10238012 0.09915623 0.10740325 0.08917872]\n",
      " [0.09795937 0.09483218 0.09967877 0.10878633 0.11922463 0.08143352\n",
      "  0.10237121 0.09914988 0.10739224 0.08917188]\n",
      " [0.09794307 0.09485132 0.09969307 0.10880064 0.11920134 0.08141857\n",
      "  0.10237703 0.0991436  0.10739764 0.08917371]\n",
      " [0.09794599 0.09484291 0.09968167 0.10880628 0.11921292 0.08141601\n",
      "  0.10238689 0.09914898 0.1074013  0.08915706]\n",
      " [0.09794392 0.09485435 0.09967535 0.10879424 0.11920335 0.08142926\n",
      "  0.10237066 0.09914429 0.1074099  0.08917468]\n",
      " [0.09796373 0.09485936 0.09968513 0.10879388 0.119192   0.0814285\n",
      "  0.10235266 0.09913298 0.107409   0.08918275]\n",
      " [0.09794096 0.09483745 0.09967242 0.10880016 0.11920937 0.08142816\n",
      "  0.10239552 0.09914705 0.10739819 0.08917074]\n",
      " [0.09794013 0.09484722 0.09968579 0.10881876 0.11918722 0.08143851\n",
      "  0.10238695 0.09913304 0.10739385 0.08916854]\n",
      " [0.09795767 0.09485287 0.09967957 0.1088     0.11918957 0.08142897\n",
      "  0.10238287 0.0991315  0.107406   0.08917098]\n",
      " [0.09794664 0.09484605 0.0996621  0.10881529 0.11918202 0.08143321\n",
      "  0.10239    0.09915661 0.10739398 0.0891741 ]\n",
      " [0.09792825 0.09484408 0.09967888 0.10880665 0.11921658 0.0814169\n",
      "  0.1023841  0.09914645 0.10741375 0.08916436]\n",
      " [0.09793831 0.09482774 0.0996819  0.10880385 0.11918221 0.0814285\n",
      "  0.10238828 0.09915639 0.10741205 0.08918078]\n",
      " [0.09794948 0.09483665 0.09967815 0.10879311 0.11921692 0.08142154\n",
      "  0.1023781  0.09915161 0.1074025  0.08917196]\n",
      " [0.09793807 0.09484974 0.0996812  0.10879199 0.1192208  0.08142406\n",
      "  0.10236266 0.09914659 0.10741626 0.08916862]\n",
      " [0.09794647 0.09482073 0.09968696 0.10878489 0.11919321 0.08142786\n",
      "  0.10240257 0.09916861 0.10740229 0.08916641]\n",
      " [0.09794454 0.09485344 0.09968352 0.10880449 0.11919612 0.08142382\n",
      "  0.10236572 0.09914444 0.10741891 0.08916501]\n",
      " [0.09793622 0.09485816 0.09968155 0.10879226 0.11921379 0.08141675\n",
      "  0.10236652 0.09914258 0.10741099 0.08918118]\n",
      " [0.09792936 0.09485332 0.09968848 0.1088226  0.11921458 0.08141798\n",
      "  0.10237701 0.09913774 0.10740621 0.08915273]\n",
      " [0.09794551 0.0948421  0.09966731 0.10880792 0.11920319 0.08143662\n",
      "  0.10236396 0.0991435  0.10741861 0.08917129]\n",
      " [0.         0.         0.         0.         0.         0.\n",
      "  0.         0.         0.         0.        ]]\n",
      "19.0\n",
      "sfmax.shape (20, 10)\n",
      "[[0.09795023 0.09486222 0.0996657  0.10878574 0.11919129 0.08142651\n",
      "  0.10238012 0.09915623 0.10740325 0.08917872]\n",
      " [0.09795937 0.09483218 0.09967877 0.10878633 0.11922463 0.08143352\n",
      "  0.10237121 0.09914988 0.10739224 0.08917188]\n",
      " [0.09794307 0.09485132 0.09969307 0.10880064 0.11920134 0.08141857\n",
      "  0.10237703 0.0991436  0.10739764 0.08917371]\n",
      " [0.09794599 0.09484291 0.09968167 0.10880628 0.11921292 0.08141601\n",
      "  0.10238689 0.09914898 0.1074013  0.08915706]\n",
      " [0.09794392 0.09485435 0.09967535 0.10879424 0.11920335 0.08142926\n",
      "  0.10237066 0.09914429 0.1074099  0.08917468]\n",
      " [0.09796373 0.09485936 0.09968513 0.10879388 0.119192   0.0814285\n",
      "  0.10235266 0.09913298 0.107409   0.08918275]\n",
      " [0.09794096 0.09483745 0.09967242 0.10880016 0.11920937 0.08142816\n",
      "  0.10239552 0.09914705 0.10739819 0.08917074]\n",
      " [0.09794013 0.09484722 0.09968579 0.10881876 0.11918722 0.08143851\n",
      "  0.10238695 0.09913304 0.10739385 0.08916854]\n",
      " [0.09795767 0.09485287 0.09967957 0.1088     0.11918957 0.08142897\n",
      "  0.10238287 0.0991315  0.107406   0.08917098]\n",
      " [0.09794664 0.09484605 0.0996621  0.10881529 0.11918202 0.08143321\n",
      "  0.10239    0.09915661 0.10739398 0.0891741 ]\n",
      " [0.09792825 0.09484408 0.09967888 0.10880665 0.11921658 0.0814169\n",
      "  0.1023841  0.09914645 0.10741375 0.08916436]\n",
      " [0.09793831 0.09482774 0.0996819  0.10880385 0.11918221 0.0814285\n",
      "  0.10238828 0.09915639 0.10741205 0.08918078]\n",
      " [0.09794948 0.09483665 0.09967815 0.10879311 0.11921692 0.08142154\n",
      "  0.1023781  0.09915161 0.1074025  0.08917196]\n",
      " [0.09793807 0.09484974 0.0996812  0.10879199 0.1192208  0.08142406\n",
      "  0.10236266 0.09914659 0.10741626 0.08916862]\n",
      " [0.09794647 0.09482073 0.09968696 0.10878489 0.11919321 0.08142786\n",
      "  0.10240257 0.09916861 0.10740229 0.08916641]\n",
      " [0.09794454 0.09485344 0.09968352 0.10880449 0.11919612 0.08142382\n",
      "  0.10236572 0.09914444 0.10741891 0.08916501]\n",
      " [0.09793622 0.09485816 0.09968155 0.10879226 0.11921379 0.08141675\n",
      "  0.10236652 0.09914258 0.10741099 0.08918118]\n",
      " [0.09792936 0.09485332 0.09968848 0.1088226  0.11921458 0.08141798\n",
      "  0.10237701 0.09913774 0.10740621 0.08915273]\n",
      " [0.09794551 0.0948421  0.09966731 0.10880792 0.11920319 0.08143662\n",
      "  0.10236396 0.0991435  0.10741861 0.08917129]\n",
      " [0.09795503 0.0948457  0.09966548 0.10878638 0.1192089  0.08144749\n",
      "  0.10236582 0.09915083 0.1074063  0.08916807]]\n",
      "20.0\n"
     ]
    }
   ],
   "source": [
    "sfmax = np.zeros([len(X),10])\n",
    "for i in range(20):\n",
    "    sfmax[i] = np.exp(z3[i])/np.sum(np.exp(z3[i]), axis =0)\n",
    "    print('sfmax.shape', sfmax.shape)\n",
    "    print(sfmax)\n",
    "    print(np.sum(sfmax))"
   ]
  },
  {
   "cell_type": "code",
   "execution_count": 22,
   "id": "9394f831-a039-4075-924a-96ef1c9c4287",
   "metadata": {
    "colab": {
     "base_uri": "https://localhost:8080/"
    },
    "id": "9394f831-a039-4075-924a-96ef1c9c4287",
    "outputId": "99f56f2d-2e92-42f1-cc9f-fb79e06ba01b"
   },
   "outputs": [
    {
     "name": "stdout",
     "output_type": "stream",
     "text": [
      "softmax.shape (20, 10)\n",
      "[[0.09795023 0.09486222 0.0996657  0.10878574 0.11919129 0.08142651\n",
      "  0.10238012 0.09915623 0.10740325 0.08917872]\n",
      " [0.09795937 0.09483218 0.09967877 0.10878633 0.11922463 0.08143352\n",
      "  0.10237121 0.09914988 0.10739224 0.08917188]\n",
      " [0.09794307 0.09485132 0.09969307 0.10880064 0.11920134 0.08141857\n",
      "  0.10237703 0.0991436  0.10739764 0.08917371]\n",
      " [0.09794599 0.09484291 0.09968167 0.10880628 0.11921292 0.08141601\n",
      "  0.10238689 0.09914898 0.1074013  0.08915706]\n",
      " [0.09794392 0.09485435 0.09967535 0.10879424 0.11920335 0.08142926\n",
      "  0.10237066 0.09914429 0.1074099  0.08917468]\n",
      " [0.09796373 0.09485936 0.09968513 0.10879388 0.119192   0.0814285\n",
      "  0.10235266 0.09913298 0.107409   0.08918275]\n",
      " [0.09794096 0.09483745 0.09967242 0.10880016 0.11920937 0.08142816\n",
      "  0.10239552 0.09914705 0.10739819 0.08917074]\n",
      " [0.09794013 0.09484722 0.09968579 0.10881876 0.11918722 0.08143851\n",
      "  0.10238695 0.09913304 0.10739385 0.08916854]\n",
      " [0.09795767 0.09485287 0.09967957 0.1088     0.11918957 0.08142897\n",
      "  0.10238287 0.0991315  0.107406   0.08917098]\n",
      " [0.09794664 0.09484605 0.0996621  0.10881529 0.11918202 0.08143321\n",
      "  0.10239    0.09915661 0.10739398 0.0891741 ]\n",
      " [0.09792825 0.09484408 0.09967888 0.10880665 0.11921658 0.0814169\n",
      "  0.1023841  0.09914645 0.10741375 0.08916436]\n",
      " [0.09793831 0.09482774 0.0996819  0.10880385 0.11918221 0.0814285\n",
      "  0.10238828 0.09915639 0.10741205 0.08918078]\n",
      " [0.09794948 0.09483665 0.09967815 0.10879311 0.11921692 0.08142154\n",
      "  0.1023781  0.09915161 0.1074025  0.08917196]\n",
      " [0.09793807 0.09484974 0.0996812  0.10879199 0.1192208  0.08142406\n",
      "  0.10236266 0.09914659 0.10741626 0.08916862]\n",
      " [0.09794647 0.09482073 0.09968696 0.10878489 0.11919321 0.08142786\n",
      "  0.10240257 0.09916861 0.10740229 0.08916641]\n",
      " [0.09794454 0.09485344 0.09968352 0.10880449 0.11919612 0.08142382\n",
      "  0.10236572 0.09914444 0.10741891 0.08916501]\n",
      " [0.09793622 0.09485816 0.09968155 0.10879226 0.11921379 0.08141675\n",
      "  0.10236652 0.09914258 0.10741099 0.08918118]\n",
      " [0.09792936 0.09485332 0.09968848 0.1088226  0.11921458 0.08141798\n",
      "  0.10237701 0.09913774 0.10740621 0.08915273]\n",
      " [0.09794551 0.0948421  0.09966731 0.10880792 0.11920319 0.08143662\n",
      "  0.10236396 0.0991435  0.10741861 0.08917129]\n",
      " [0.09795503 0.0948457  0.09966548 0.10878638 0.1192089  0.08144749\n",
      "  0.10236582 0.09915083 0.1074063  0.08916807]]\n",
      "20.0\n"
     ]
    }
   ],
   "source": [
    "softmax = np.exp(z3)/np.sum(np.exp(z3), axis=1, keepdims=True)\n",
    "print('softmax.shape', softmax.shape)\n",
    "print(softmax)\n",
    "print(np.sum(softmax))"
   ]
  },
  {
   "cell_type": "code",
   "execution_count": 23,
   "id": "8aa6a338-5152-4fcf-8cf1-4f7b531d356d",
   "metadata": {
    "colab": {
     "base_uri": "https://localhost:8080/"
    },
    "id": "8aa6a338-5152-4fcf-8cf1-4f7b531d356d",
    "outputId": "7d799b50-79c4-42e8-ac23-2564d8b285dd"
   },
   "outputs": [
    {
     "name": "stdout",
     "output_type": "stream",
     "text": [
      "softmax.shape (10, 20)\n",
      "[[0.09795023 0.09486222 0.0996657  0.10878574 0.11919129 0.08142651\n",
      "  0.10238012 0.09915623 0.10740325 0.08917872]\n",
      " [0.09795937 0.09483218 0.09967877 0.10878633 0.11922463 0.08143352\n",
      "  0.10237121 0.09914988 0.10739224 0.08917188]\n",
      " [0.09794307 0.09485132 0.09969307 0.10880064 0.11920134 0.08141857\n",
      "  0.10237703 0.0991436  0.10739764 0.08917371]\n",
      " [0.09794599 0.09484291 0.09968167 0.10880628 0.11921292 0.08141601\n",
      "  0.10238689 0.09914898 0.1074013  0.08915706]\n",
      " [0.09794392 0.09485435 0.09967535 0.10879424 0.11920335 0.08142926\n",
      "  0.10237066 0.09914429 0.1074099  0.08917468]\n",
      " [0.09796373 0.09485936 0.09968513 0.10879388 0.119192   0.0814285\n",
      "  0.10235266 0.09913298 0.107409   0.08918275]\n",
      " [0.09794096 0.09483745 0.09967242 0.10880016 0.11920937 0.08142816\n",
      "  0.10239552 0.09914705 0.10739819 0.08917074]\n",
      " [0.09794013 0.09484722 0.09968579 0.10881876 0.11918722 0.08143851\n",
      "  0.10238695 0.09913304 0.10739385 0.08916854]\n",
      " [0.09795767 0.09485287 0.09967957 0.1088     0.11918957 0.08142897\n",
      "  0.10238287 0.0991315  0.107406   0.08917098]\n",
      " [0.09794664 0.09484605 0.0996621  0.10881529 0.11918202 0.08143321\n",
      "  0.10239    0.09915661 0.10739398 0.0891741 ]\n",
      " [0.09792825 0.09484408 0.09967888 0.10880665 0.11921658 0.0814169\n",
      "  0.1023841  0.09914645 0.10741375 0.08916436]\n",
      " [0.09793831 0.09482774 0.0996819  0.10880385 0.11918221 0.0814285\n",
      "  0.10238828 0.09915639 0.10741205 0.08918078]\n",
      " [0.09794948 0.09483665 0.09967815 0.10879311 0.11921692 0.08142154\n",
      "  0.1023781  0.09915161 0.1074025  0.08917196]\n",
      " [0.09793807 0.09484974 0.0996812  0.10879199 0.1192208  0.08142406\n",
      "  0.10236266 0.09914659 0.10741626 0.08916862]\n",
      " [0.09794647 0.09482073 0.09968696 0.10878489 0.11919321 0.08142786\n",
      "  0.10240257 0.09916861 0.10740229 0.08916641]\n",
      " [0.09794454 0.09485344 0.09968352 0.10880449 0.11919612 0.08142382\n",
      "  0.10236572 0.09914444 0.10741891 0.08916501]\n",
      " [0.09793622 0.09485816 0.09968155 0.10879226 0.11921379 0.08141675\n",
      "  0.10236652 0.09914258 0.10741099 0.08918118]\n",
      " [0.09792936 0.09485332 0.09968848 0.1088226  0.11921458 0.08141798\n",
      "  0.10237701 0.09913774 0.10740621 0.08915273]\n",
      " [0.09794551 0.0948421  0.09966731 0.10880792 0.11920319 0.08143662\n",
      "  0.10236396 0.0991435  0.10741861 0.08917129]\n",
      " [0.09795503 0.0948457  0.09966548 0.10878638 0.1192089  0.08144749\n",
      "  0.10236582 0.09915083 0.1074063  0.08916807]]\n",
      "20.0\n"
     ]
    }
   ],
   "source": [
    "softmax = np.exp(z3).T/np.sum(np.exp(z3), axis=1)\n",
    "print('softmax.shape', softmax.shape)\n",
    "print(softmax.T)\n",
    "print(np.sum(softmax))"
   ]
  },
  {
   "cell_type": "code",
   "execution_count": 24,
   "id": "c1d60611-f22f-480e-9df4-c426551678da",
   "metadata": {
    "colab": {
     "base_uri": "https://localhost:8080/"
    },
    "id": "c1d60611-f22f-480e-9df4-c426551678da",
    "outputId": "e7490087-ffd9-4ad6-ad1f-6d9d3f0dd340"
   },
   "outputs": [
    {
     "name": "stdout",
     "output_type": "stream",
     "text": [
      "softmax.shape (20, 10)\n",
      "[[0.09795023 0.09486222 0.0996657  0.10878574 0.11919129 0.08142651\n",
      "  0.10238012 0.09915623 0.10740325 0.08917872]\n",
      " [0.09795937 0.09483218 0.09967877 0.10878633 0.11922463 0.08143352\n",
      "  0.10237121 0.09914988 0.10739224 0.08917188]\n",
      " [0.09794307 0.09485132 0.09969307 0.10880064 0.11920134 0.08141857\n",
      "  0.10237703 0.0991436  0.10739764 0.08917371]\n",
      " [0.09794599 0.09484291 0.09968167 0.10880628 0.11921292 0.08141601\n",
      "  0.10238689 0.09914898 0.1074013  0.08915706]\n",
      " [0.09794392 0.09485435 0.09967535 0.10879424 0.11920335 0.08142926\n",
      "  0.10237066 0.09914429 0.1074099  0.08917468]\n",
      " [0.09796373 0.09485936 0.09968513 0.10879388 0.119192   0.0814285\n",
      "  0.10235266 0.09913298 0.107409   0.08918275]\n",
      " [0.09794096 0.09483745 0.09967242 0.10880016 0.11920937 0.08142816\n",
      "  0.10239552 0.09914705 0.10739819 0.08917074]\n",
      " [0.09794013 0.09484722 0.09968579 0.10881876 0.11918722 0.08143851\n",
      "  0.10238695 0.09913304 0.10739385 0.08916854]\n",
      " [0.09795767 0.09485287 0.09967957 0.1088     0.11918957 0.08142897\n",
      "  0.10238287 0.0991315  0.107406   0.08917098]\n",
      " [0.09794664 0.09484605 0.0996621  0.10881529 0.11918202 0.08143321\n",
      "  0.10239    0.09915661 0.10739398 0.0891741 ]\n",
      " [0.09792825 0.09484408 0.09967888 0.10880665 0.11921658 0.0814169\n",
      "  0.1023841  0.09914645 0.10741375 0.08916436]\n",
      " [0.09793831 0.09482774 0.0996819  0.10880385 0.11918221 0.0814285\n",
      "  0.10238828 0.09915639 0.10741205 0.08918078]\n",
      " [0.09794948 0.09483665 0.09967815 0.10879311 0.11921692 0.08142154\n",
      "  0.1023781  0.09915161 0.1074025  0.08917196]\n",
      " [0.09793807 0.09484974 0.0996812  0.10879199 0.1192208  0.08142406\n",
      "  0.10236266 0.09914659 0.10741626 0.08916862]\n",
      " [0.09794647 0.09482073 0.09968696 0.10878489 0.11919321 0.08142786\n",
      "  0.10240257 0.09916861 0.10740229 0.08916641]\n",
      " [0.09794454 0.09485344 0.09968352 0.10880449 0.11919612 0.08142382\n",
      "  0.10236572 0.09914444 0.10741891 0.08916501]\n",
      " [0.09793622 0.09485816 0.09968155 0.10879226 0.11921379 0.08141675\n",
      "  0.10236652 0.09914258 0.10741099 0.08918118]\n",
      " [0.09792936 0.09485332 0.09968848 0.1088226  0.11921458 0.08141798\n",
      "  0.10237701 0.09913774 0.10740621 0.08915273]\n",
      " [0.09794551 0.0948421  0.09966731 0.10880792 0.11920319 0.08143662\n",
      "  0.10236396 0.0991435  0.10741861 0.08917129]\n",
      " [0.09795503 0.0948457  0.09966548 0.10878638 0.1192089  0.08144749\n",
      "  0.10236582 0.09915083 0.1074063  0.08916807]]\n",
      "20.0\n"
     ]
    }
   ],
   "source": [
    "softmax = np.exp(z3)/np.sum(np.exp(z3),axis=1, keepdims=True)\n",
    "print('softmax.shape', softmax.shape)\n",
    "print(softmax)\n",
    "print(np.sum(softmax))"
   ]
  },
  {
   "cell_type": "code",
   "execution_count": 25,
   "id": "4c68b540-eb89-45e5-8343-3578ce938c92",
   "metadata": {
    "colab": {
     "base_uri": "https://localhost:8080/"
    },
    "id": "4c68b540-eb89-45e5-8343-3578ce938c92",
    "outputId": "1862abad-5488-44af-f4af-ab23ab29489a"
   },
   "outputs": [
    {
     "data": {
      "text/plain": [
       "array([[-0.02796172,  0.06782156, -0.04129487, ..., -0.04339317,\n",
       "         0.11207288, -0.140068  ],\n",
       "       [-0.00832059, -0.04520331,  0.07295984, ...,  0.02383708,\n",
       "         0.07420325, -0.07598834],\n",
       "       [-0.06415694,  0.04233319, -0.05975057, ..., -0.04307066,\n",
       "         0.11153628, -0.02588985],\n",
       "       ...,\n",
       "       [-0.07199658,  0.06542438,  0.10021841, ...,  0.00106716,\n",
       "         0.0651164 , -0.1531845 ],\n",
       "       [ 0.01904049,  0.13437542, -0.03280254, ...,  0.08715964,\n",
       "         0.04432044, -0.07185408],\n",
       "       [-0.08383016,  0.08266052,  0.01589211, ...,  0.01954644,\n",
       "         0.06221514, -0.03099086]])"
      ]
     },
     "execution_count": 25,
     "metadata": {},
     "output_type": "execute_result"
    }
   ],
   "source": [
    "np.tanh(z1)"
   ]
  },
  {
   "cell_type": "code",
   "execution_count": 26,
   "id": "b87fc00a-f6d0-4be2-ab36-9fa22995a44d",
   "metadata": {
    "colab": {
     "base_uri": "https://localhost:8080/"
    },
    "id": "b87fc00a-f6d0-4be2-ab36-9fa22995a44d",
    "outputId": "7ce617c3-3a8d-4d3a-abc3-c7ebab2b2e0f"
   },
   "outputs": [
    {
     "data": {
      "text/plain": [
       "array([[0.4998045 , 0.49884873, 0.4995735 , ..., 0.49952904, 0.49684999,\n",
       "        0.49507094],\n",
       "       [0.49998269, 0.4994889 , 0.49866744, ..., 0.49985793, 0.49862157,\n",
       "        0.49855435],\n",
       "       [0.49896991, 0.49955177, 0.49910667, ..., 0.49953601, 0.49688018,\n",
       "        0.4998324 ],\n",
       "       ...,\n",
       "       [0.49870244, 0.49892877, 0.49748273, ..., 0.49999972, 0.49893884,\n",
       "        0.4940988 ],\n",
       "       [0.49990936, 0.49546525, 0.49973093, ..., 0.49809718, 0.49950868,\n",
       "        0.49870758],\n",
       "       [0.49824003, 0.49828888, 0.49993686, ..., 0.49990448, 0.49903138,\n",
       "        0.49975983]])"
      ]
     },
     "execution_count": 26,
     "metadata": {},
     "output_type": "execute_result"
    }
   ],
   "source": [
    "(np.exp(z1) * np.exp(-z1)) / (np.exp(z1) + np.exp(-z1))\n"
   ]
  },
  {
   "cell_type": "code",
   "execution_count": null,
   "id": "c0364cdb-c6d0-4a95-b568-a7adb112c144",
   "metadata": {
    "id": "c0364cdb-c6d0-4a95-b568-a7adb112c144"
   },
   "outputs": [],
   "source": []
  },
  {
   "cell_type": "code",
   "execution_count": 27,
   "id": "beb4edd1-03b7-4c20-8a78-949264620c52",
   "metadata": {
    "colab": {
     "base_uri": "https://localhost:8080/"
    },
    "id": "beb4edd1-03b7-4c20-8a78-949264620c52",
    "outputId": "dd4b7ffe-4bab-4196-c019-0f9e39994b21"
   },
   "outputs": [
    {
     "name": "stdout",
     "output_type": "stream",
     "text": [
      "shape:\n",
      " (20, 10)\n",
      "[[0.         0.         0.         0.         0.         0.\n",
      "  0.         0.         0.11155824 0.        ]\n",
      " [0.11616012 0.         0.         0.         0.         0.\n",
      "  0.         0.         0.         0.        ]\n",
      " [0.         0.11777223 0.         0.         0.         0.\n",
      "  0.         0.         0.         0.        ]\n",
      " [0.         0.         0.         0.11090931 0.         0.\n",
      "  0.         0.         0.         0.        ]\n",
      " [0.         0.         0.         0.         0.         0.\n",
      "  0.         0.         0.11155515 0.        ]\n",
      " [0.         0.         0.         0.         0.         0.\n",
      "  0.         0.11556465 0.         0.        ]\n",
      " [0.         0.         0.         0.         0.         0.\n",
      "  0.         0.         0.1115606  0.        ]\n",
      " [0.         0.1177744  0.         0.         0.         0.\n",
      "  0.         0.         0.         0.        ]\n",
      " [0.         0.         0.         0.         0.         0.\n",
      "  0.11395179 0.         0.         0.        ]\n",
      " [0.         0.         0.         0.         0.10635517 0.\n",
      "  0.         0.         0.         0.        ]\n",
      " [0.         0.         0.         0.         0.         0.\n",
      "  0.11395119 0.         0.         0.        ]\n",
      " [0.         0.         0.         0.         0.         0.\n",
      "  0.         0.         0.         0.12085449]\n",
      " [0.         0.         0.         0.11091536 0.         0.\n",
      "  0.         0.         0.         0.        ]\n",
      " [0.         0.         0.         0.11091588 0.         0.\n",
      "  0.         0.         0.         0.        ]\n",
      " [0.         0.         0.         0.         0.10635047 0.\n",
      "  0.         0.         0.         0.        ]\n",
      " [0.         0.         0.         0.         0.         0.\n",
      "  0.         0.         0.         0.12086333]\n",
      " [0.         0.         0.         0.         0.         0.\n",
      "  0.11395978 0.         0.         0.        ]\n",
      " [0.         0.         0.         0.         0.         0.12540796\n",
      "  0.         0.         0.         0.        ]\n",
      " [0.         0.         0.         0.         0.         0.\n",
      "  0.         0.         0.         0.12085981]\n",
      " [0.         0.         0.         0.         0.         0.\n",
      "  0.         0.11555565 0.         0.        ]]\n"
     ]
    }
   ],
   "source": [
    "#problem 3\n",
    "y = y_train_one_hot[0:20]\n",
    "loss = -y*np.log(sfmax)/len(y)\n",
    "print('shape:\\n', loss.shape)\n",
    "print(loss)"
   ]
  },
  {
   "cell_type": "code",
   "execution_count": 28,
   "id": "19c5318c-26ce-4568-9d74-44a4a2cf3d9a",
   "metadata": {
    "id": "19c5318c-26ce-4568-9d74-44a4a2cf3d9a"
   },
   "outputs": [],
   "source": [
    "#problem 4\n",
    "\n",
    "delta_a3 =sfmax-y\n",
    "delta_b3 = np.sum(delta_a3, axis=0)\n",
    "delta_W3 = np.dot(z2.T, delta_a3)\n",
    "delta_z2 = np.dot(delta_a3, W3.T)\n"
   ]
  },
  {
   "cell_type": "code",
   "execution_count": 29,
   "id": "531a5d62-8475-4744-9c90-8f4c6588e692",
   "metadata": {
    "colab": {
     "base_uri": "https://localhost:8080/"
    },
    "id": "531a5d62-8475-4744-9c90-8f4c6588e692",
    "outputId": "8f5359f6-42a1-4a5a-b41e-bf6d97da89b3"
   },
   "outputs": [
    {
     "name": "stdout",
     "output_type": "stream",
     "text": [
      "(20, 10)\n",
      "(10,)\n",
      "(200, 10)\n",
      "(20, 200)\n"
     ]
    }
   ],
   "source": [
    "print(delta_a3.shape)\n",
    "print(delta_b3.shape)\n",
    "print(delta_W3.shape)\n",
    "print(delta_z2.shape)"
   ]
  },
  {
   "cell_type": "code",
   "execution_count": 30,
   "id": "3380813b-7a86-468e-a7c9-d1536cf05f4f",
   "metadata": {
    "id": "3380813b-7a86-468e-a7c9-d1536cf05f4f"
   },
   "outputs": [],
   "source": [
    "#2nd layer\n",
    "delta_a2 = delta_z2 *(1-np.tanh(z2)**2)\n",
    "delta_b2 = np.sum(delta_a2, axis=0)\n",
    "delta_W2 = np.dot(z1.T, delta_a2)\n",
    "delta_z1 = np.dot(delta_a2, W2.T)"
   ]
  },
  {
   "cell_type": "code",
   "execution_count": 31,
   "id": "dcae636c-0ff3-4075-be21-d124cf8c2346",
   "metadata": {
    "colab": {
     "base_uri": "https://localhost:8080/"
    },
    "id": "dcae636c-0ff3-4075-be21-d124cf8c2346",
    "outputId": "9fd3f30e-cf31-4844-d6e2-ee2c1c01d606"
   },
   "outputs": [
    {
     "name": "stdout",
     "output_type": "stream",
     "text": [
      "(20, 200)\n",
      "(200,)\n",
      "(400, 200)\n",
      "(20, 400)\n"
     ]
    }
   ],
   "source": [
    "print(delta_a2.shape)\n",
    "print(delta_b2.shape)\n",
    "print(delta_W2.shape)\n",
    "print(delta_z1.shape)"
   ]
  },
  {
   "cell_type": "code",
   "execution_count": 32,
   "id": "861ff3e0-0ad4-4970-966f-b37365999627",
   "metadata": {
    "id": "861ff3e0-0ad4-4970-966f-b37365999627"
   },
   "outputs": [],
   "source": [
    "#1st Layer\n",
    "delta_a1 = delta_z2 *(1-np.tanh(z2)**2)\n",
    "delta_b1 = np.sum(delta_a1, axis =0)\n",
    "delta_W1 = np.dot(X.T, delta_a1)"
   ]
  },
  {
   "cell_type": "code",
   "execution_count": 33,
   "id": "4d632d85-af6e-4a3f-afd8-4f52851c0197",
   "metadata": {
    "colab": {
     "base_uri": "https://localhost:8080/"
    },
    "id": "4d632d85-af6e-4a3f-afd8-4f52851c0197",
    "outputId": "f89aa933-9107-46ba-9476-8392a7315c9d"
   },
   "outputs": [
    {
     "name": "stdout",
     "output_type": "stream",
     "text": [
      "(20, 200)\n",
      "(200,)\n",
      "(784, 200)\n"
     ]
    }
   ],
   "source": [
    "print(delta_a1.shape)\n",
    "print(delta_b1.shape)\n",
    "print(delta_W1.shape)"
   ]
  },
  {
   "cell_type": "code",
   "execution_count": 34,
   "id": "1373394e-e5fc-453d-8704-42df8aaec38b",
   "metadata": {
    "colab": {
     "base_uri": "https://localhost:8080/"
    },
    "id": "1373394e-e5fc-453d-8704-42df8aaec38b",
    "outputId": "7659834e-0792-4f17-e684-19aaedabb3aa"
   },
   "outputs": [
    {
     "data": {
      "text/plain": [
       "(20, 400)"
      ]
     },
     "execution_count": 34,
     "metadata": {},
     "output_type": "execute_result"
    }
   ],
   "source": [
    "np.tanh(z1).shape"
   ]
  },
  {
   "cell_type": "code",
   "execution_count": null,
   "id": "2hsjUjuXLaep",
   "metadata": {
    "id": "2hsjUjuXLaep"
   },
   "outputs": [],
   "source": []
  },
  {
   "cell_type": "code",
   "execution_count": 35,
   "id": "f6855ac2-43cc-4c88-934d-ab93d0584d10",
   "metadata": {
    "colab": {
     "base_uri": "https://localhost:8080/"
    },
    "id": "f6855ac2-43cc-4c88-934d-ab93d0584d10",
    "outputId": "81f80940-0faa-4206-aeac-7772659aedec"
   },
   "outputs": [
    {
     "name": "stdout",
     "output_type": "stream",
     "text": [
      "epoch:  0 loss:   1.101\n",
      "epoch:  1 loss:   1.073\n",
      "epoch:  2 loss:   0.819\n",
      "epoch:  3 loss:   0.499\n",
      "epoch:  4 loss:   0.356\n",
      "epoch:  5 loss:   0.293\n",
      "epoch:  6 loss:   0.256\n",
      "epoch:  7 loss:   0.231\n",
      "epoch:  8 loss:   0.213\n",
      "epoch:  9 loss:   0.200\n",
      "epoch: 10 loss:   0.191\n",
      "epoch: 11 loss:   0.183\n",
      "epoch: 12 loss:   0.177\n",
      "epoch: 13 loss:   0.172\n",
      "epoch: 14 loss:   0.168\n",
      "epoch: 15 loss:   0.164\n",
      "epoch: 16 loss:   0.161\n",
      "epoch: 17 loss:   0.158\n",
      "epoch: 18 loss:   0.155\n",
      "epoch: 19 loss:   0.152\n",
      "epoch: 20 loss:   0.150\n",
      "epoch: 21 loss:   0.148\n",
      "epoch: 22 loss:   0.145\n",
      "epoch: 23 loss:   0.143\n",
      "epoch: 24 loss:   0.141\n",
      "epoch: 25 loss:   0.138\n",
      "epoch: 26 loss:   0.136\n",
      "epoch: 27 loss:   0.134\n",
      "epoch: 28 loss:   0.132\n",
      "epoch: 29 loss:   0.130\n"
     ]
    }
   ],
   "source": [
    "clf = ScratchSimpleNeuralNetrowkClassifier(n_epochs=30, n_features=784,\n",
    "                                           n_nodes1=400, n_nodes2=200, n_output=10,\n",
    "                                           activate_function_key ='tanh',\n",
    "                                           lr=0.01,n_batch=100, verbose = True)\n",
    "clf.fit(X_train, y_train_one_hot, X_val, y_val_one_hot)\n",
    "y_pred = clf.predict(X_val)"
   ]
  },
  {
   "cell_type": "code",
   "execution_count": 36,
   "id": "54d5c9b0-19a4-41b4-94e3-32beb15966df",
   "metadata": {
    "id": "54d5c9b0-19a4-41b4-94e3-32beb15966df"
   },
   "outputs": [
    {
     "name": "stdout",
     "output_type": "stream",
     "text": [
      "[9 5 3 ... 2 9 6]\n"
     ]
    }
   ],
   "source": [
    "print(y_pred)"
   ]
  },
  {
   "cell_type": "code",
   "execution_count": 37,
   "id": "711bddd1-5647-4202-a34e-163af705b7da",
   "metadata": {},
   "outputs": [
    {
     "name": "stdout",
     "output_type": "stream",
     "text": [
      "accuracy:0.919\n"
     ]
    }
   ],
   "source": [
    "accuracy = accuracy_score(y_val, y_pred)\n",
    "\n",
    "print('accuracy:{:.3f}'.format(accuracy))"
   ]
  },
  {
   "cell_type": "code",
   "execution_count": 38,
   "id": "8886b916-9fd4-46ee-bcb6-76911dc9d735",
   "metadata": {},
   "outputs": [
    {
     "data": {
      "image/png": "[encoded data removed]",
      "text/plain": [
       "<Figure size 1200x800 with 1 Axes>"
      ]
     },
     "metadata": {},
     "output_type": "display_data"
    }
   ],
   "source": [
    "fig = plt.subplots(figsize=(12,8))\n",
    "plt.rcParams['font.size']=20\n",
    "\n",
    "plt.plot(clf.log_loss, 'rs--')\n",
    "plt.plot(clf.log_loss_val,'bo--');"
   ]
  },
  {
   "cell_type": "code",
   "execution_count": 40,
   "id": "dd00f937-17e0-477f-8e04-a93ce73354c1",
   "metadata": {},
   "outputs": [
    {
     "data": {
      "image/png": "[encoded data removed]",
      "text/plain": [
       "<Figure size 1200x800 with 1 Axes>"
      ]
     },
     "metadata": {},
     "output_type": "display_data"
    }
   ],
   "source": [
    "fig = plt.subplots(figsize=(12,8))\n",
    "plt.rcParams['font.size'] = 20\n",
    "\n",
    "plt.plot(clf.log_acc, 'rs--')\n",
    "plt.plot(clf.log_acc_val, 'bo--');"
   ]
  },
  {
   "cell_type": "code",
   "execution_count": null,
   "id": "f0b19d7d-f22a-4c4b-884a-64e11810b73d",
   "metadata": {},
   "outputs": [],
   "source": []
  }
 ],
 "metadata": {
  "colab": {
   "provenance": []
  },
  "kernelspec": {
   "display_name": "Python 3 (ipykernel)",
   "language": "python",
   "name": "python3"
  },
  "language_info": {
   "codemirror_mode": {
    "name": "ipython",
    "version": 3
   },
   "file_extension": ".py",
   "mimetype": "text/x-python",
   "name": "python",
   "nbconvert_exporter": "python",
   "pygments_lexer": "ipython3",
   "version": "3.11.7"
  }
 },
 "nbformat": 4,
 "nbformat_minor": 5
}
